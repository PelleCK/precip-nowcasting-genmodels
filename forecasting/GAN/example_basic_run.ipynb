{
 "cells": [
  {
   "cell_type": "code",
   "execution_count": 2,
   "metadata": {
    "collapsed": true
   },
   "outputs": [],
   "source": [
    "from datetime import datetime\n",
    "import tensorflow as tf\n",
    "import numpy as np\n",
    "\n",
    "# Add parent directory to system path in order to import custom modules\n",
    "import sys\n",
    "sys.path.append('/')\n",
    "sys.path.append('../')\n",
    "\n",
    "from model_builder_GAN import GAN\n",
    "from batchcreator_GAN import DataGenerator, get_list_IDs"
   ]
  },
  {
   "cell_type": "code",
   "execution_count": 10,
   "outputs": [],
   "source": [
    "# Set hyperparameters\n",
    "x_length = 6\n",
    "y_length = 3\n",
    "filter_no_rain = 'avg0.01mm'\n",
    "architecture = 'AENN'\n",
    "l_adv = 0.003\n",
    "l_rec = 1\n",
    "g_cycles = 3\n",
    "label_smoothing = 0.2\n",
    "lr_g = 0.003\n",
    "lr_d = 0.001\n",
    "\n",
    "# Loads preproccesed files:\n",
    "load_prep = True\n",
    "# Set rtcor as target (instead of aart)\n",
    "y_is_rtcor= True\n",
    "\n",
    "# Either select files by defining a time period or load a premade list of filenames:\n",
    "#start_dt = datetime(2019,6,1,0,0)\n",
    "#end_dt =  datetime(2019,7,1,0,0)\n",
    "#list_IDs = get_list_IDs(start_dt, end_dt, 6, 3, filter_no_rain=filter_no_rain, y_interval=30)\n",
    "\n",
    "# Select filename between a start date and end data\n",
    "# get_list_IDs function can take long time on RU server (limited cpu power I think?)\n",
    "# other option is to load predefined list of filenames, for example:\n",
    "location_data_IDs = '/Users/charlottecvn/Programming/PyCharm/PycharmProjects/MSc thesis/Precipitation_Nowcasting_MScThesis/data/example_data/train2015_2018_3y_30m.npy'\n",
    "list_IDs = np.load(location_data_IDs, allow_pickle=  True)\n",
    "list_IDs = list_IDs[:100] # reduce dataset size for testing purposes"
   ],
   "metadata": {
    "collapsed": false,
    "pycharm": {
     "name": "#%%\n"
    }
   }
  },
  {
   "cell_type": "code",
   "execution_count": 11,
   "outputs": [
    {
     "name": "stderr",
     "output_type": "stream",
     "text": [
      "2022-02-23 10:27:53.375920: I tensorflow/core/platform/cpu_feature_guard.cc:151] This TensorFlow binary is optimized with oneAPI Deep Neural Network Library (oneDNN) to use the following CPU instructions in performance-critical operations:  AVX2 FMA\n",
      "To enable them in other operations, rebuild TensorFlow with the appropriate compiler flags.\n"
     ]
    },
    {
     "name": "stdout",
     "output_type": "stream",
     "text": [
      "WARNING:tensorflow:The following Variables were used in a Lambda layer's call (tf.keras.backend.rnn), but are not present in its tracked objects:   <tf.Variable 'conv_gr_u2d/kernel:0' shape=(3, 3, 128, 384) dtype=float32>\n",
      "  <tf.Variable 'conv_gr_u2d/recurrent_kernel:0' shape=(3, 3, 128, 384) dtype=float32>\n",
      "  <tf.Variable 'conv_gr_u2d/bias:0' shape=(384,) dtype=float32>. This is a strong indication that the Lambda layer should be rewritten as a subclassed Layer.\n"
     ]
    },
    {
     "ename": "ValueError",
     "evalue": "Unexpectedly found an instance of type `<class 'keras.engine.keras_tensor.KerasTensor'>`. Expected a symbolic tensor instance.",
     "output_type": "error",
     "traceback": [
      "\u001B[0;31m---------------------------------------------------------------------------\u001B[0m",
      "\u001B[0;31mValueError\u001B[0m                                Traceback (most recent call last)",
      "\u001B[0;32m/var/folders/fd/76hxfd191j5gkttn9qz8t06h0000gn/T/ipykernel_31536/1610962724.py\u001B[0m in \u001B[0;36m<module>\u001B[0;34m\u001B[0m\n\u001B[0;32m----> 1\u001B[0;31m model = GAN(rnn_type='GRU', x_length=x_length,\n\u001B[0m\u001B[1;32m      2\u001B[0m             \u001B[0my_length\u001B[0m\u001B[0;34m=\u001B[0m\u001B[0my_length\u001B[0m\u001B[0;34m,\u001B[0m \u001B[0marchitecture\u001B[0m\u001B[0;34m=\u001B[0m\u001B[0marchitecture\u001B[0m\u001B[0;34m,\u001B[0m \u001B[0mrelu_alpha\u001B[0m\u001B[0;34m=\u001B[0m\u001B[0;36m.2\u001B[0m\u001B[0;34m,\u001B[0m\u001B[0;34m\u001B[0m\u001B[0;34m\u001B[0m\u001B[0m\n\u001B[1;32m      3\u001B[0m            \u001B[0ml_adv\u001B[0m \u001B[0;34m=\u001B[0m \u001B[0ml_adv\u001B[0m\u001B[0;34m,\u001B[0m \u001B[0ml_rec\u001B[0m \u001B[0;34m=\u001B[0m \u001B[0ml_rec\u001B[0m\u001B[0;34m,\u001B[0m \u001B[0mg_cycles\u001B[0m\u001B[0;34m=\u001B[0m\u001B[0;36m3\u001B[0m\u001B[0;34m,\u001B[0m \u001B[0mlabel_smoothing\u001B[0m\u001B[0;34m=\u001B[0m\u001B[0mlabel_smoothing\u001B[0m\u001B[0;34m,\u001B[0m\u001B[0;34m\u001B[0m\u001B[0;34m\u001B[0m\u001B[0m\n\u001B[1;32m      4\u001B[0m            \u001B[0mnorm_method\u001B[0m \u001B[0;34m=\u001B[0m \u001B[0;34m'minmax'\u001B[0m\u001B[0;34m,\u001B[0m \u001B[0mdownscale256\u001B[0m \u001B[0;34m=\u001B[0m \u001B[0;32mTrue\u001B[0m\u001B[0;34m,\u001B[0m \u001B[0mrec_with_mae\u001B[0m\u001B[0;34m=\u001B[0m \u001B[0;32mFalse\u001B[0m\u001B[0;34m,\u001B[0m\u001B[0;34m\u001B[0m\u001B[0;34m\u001B[0m\u001B[0m\n\u001B[1;32m      5\u001B[0m            batch_norm = False)\n",
      "\u001B[0;32m~/Programming/PyCharm/PycharmProjects/MSc thesis/Precipitation_Nowcasting_MScThesis/forecasting/GAN/model_builder_GAN.py\u001B[0m in \u001B[0;36m__init__\u001B[0;34m(self, inp_dim, out_dim, rnn_type, x_length, y_length, relu_alpha, architecture, l_adv, l_rec, g_cycles, label_smoothing, norm_method, wgan, downscale256, rec_with_mae, batch_norm, drop_out, r_to_dbz)\u001B[0m\n\u001B[1;32m    395\u001B[0m         \u001B[0msuper\u001B[0m\u001B[0;34m(\u001B[0m\u001B[0mGAN\u001B[0m\u001B[0;34m,\u001B[0m \u001B[0mself\u001B[0m\u001B[0;34m)\u001B[0m\u001B[0;34m.\u001B[0m\u001B[0m__init__\u001B[0m\u001B[0;34m(\u001B[0m\u001B[0;34m)\u001B[0m\u001B[0;34m\u001B[0m\u001B[0;34m\u001B[0m\u001B[0m\n\u001B[1;32m    396\u001B[0m \u001B[0;34m\u001B[0m\u001B[0m\n\u001B[0;32m--> 397\u001B[0;31m         self.generator = build_generator(rnn_type, x_length=x_length, \n\u001B[0m\u001B[1;32m    398\u001B[0m                                          \u001B[0my_length\u001B[0m \u001B[0;34m=\u001B[0m \u001B[0my_length\u001B[0m\u001B[0;34m,\u001B[0m \u001B[0mrelu_alpha\u001B[0m\u001B[0;34m=\u001B[0m\u001B[0mrelu_alpha\u001B[0m\u001B[0;34m,\u001B[0m\u001B[0;34m\u001B[0m\u001B[0;34m\u001B[0m\u001B[0m\n\u001B[1;32m    399\u001B[0m                                          \u001B[0marchitecture\u001B[0m\u001B[0;34m=\u001B[0m\u001B[0marchitecture\u001B[0m\u001B[0;34m,\u001B[0m \u001B[0mnorm_method\u001B[0m\u001B[0;34m=\u001B[0m\u001B[0mnorm_method\u001B[0m\u001B[0;34m,\u001B[0m\u001B[0;34m\u001B[0m\u001B[0;34m\u001B[0m\u001B[0m\n",
      "\u001B[0;32m~/Programming/PyCharm/PycharmProjects/MSc thesis/Precipitation_Nowcasting_MScThesis/forecasting/GAN/model_builder_GAN.py\u001B[0m in \u001B[0;36mbuild_generator\u001B[0;34m(rnn_type, relu_alpha, x_length, y_length, architecture, norm_method, downscale256, batch_norm, num_filters)\u001B[0m\n\u001B[1;32m    328\u001B[0m         \u001B[0moutput\u001B[0m \u001B[0;34m=\u001B[0m \u001B[0mdecoder\u001B[0m\u001B[0;34m(\u001B[0m\u001B[0mx\u001B[0m\u001B[0;34m,\u001B[0m \u001B[0mrnn_type\u001B[0m\u001B[0;34m,\u001B[0m \u001B[0mrelu_alpha\u001B[0m\u001B[0;34m)\u001B[0m\u001B[0;34m\u001B[0m\u001B[0;34m\u001B[0m\u001B[0m\n\u001B[1;32m    329\u001B[0m     \u001B[0;32melif\u001B[0m \u001B[0marchitecture\u001B[0m \u001B[0;34m==\u001B[0m \u001B[0;34m'AENN'\u001B[0m\u001B[0;34m:\u001B[0m\u001B[0;34m\u001B[0m\u001B[0;34m\u001B[0m\u001B[0m\n\u001B[0;32m--> 330\u001B[0;31m         output = generator_AENN(inp, rnn_type, relu_alpha, \n\u001B[0m\u001B[1;32m    331\u001B[0m                                 \u001B[0mx_length\u001B[0m\u001B[0;34m,\u001B[0m \u001B[0my_length\u001B[0m\u001B[0;34m,\u001B[0m \u001B[0mnorm_method\u001B[0m\u001B[0;34m=\u001B[0m\u001B[0mnorm_method\u001B[0m\u001B[0;34m,\u001B[0m\u001B[0;34m\u001B[0m\u001B[0;34m\u001B[0m\u001B[0m\n\u001B[1;32m    332\u001B[0m                                 downscale256 = downscale256, batch_norm = batch_norm, num_filters = num_filters)\n",
      "\u001B[0;32m~/Programming/PyCharm/PycharmProjects/MSc thesis/Precipitation_Nowcasting_MScThesis/forecasting/GAN/model_builder_GAN.py\u001B[0m in \u001B[0;36mgenerator_AENN\u001B[0;34m(x, rnn_type, relu_alpha, x_length, y_length, norm_method, downscale256, batch_norm, num_filters)\u001B[0m\n\u001B[1;32m    254\u001B[0m                           return_state = True, batch_norm = batch_norm) \n\u001B[1;32m    255\u001B[0m         \u001B[0mx\u001B[0m \u001B[0;34m=\u001B[0m \u001B[0mRepeatVector4D\u001B[0m\u001B[0;34m(\u001B[0m\u001B[0my_length\u001B[0m\u001B[0;34m)\u001B[0m\u001B[0;34m(\u001B[0m\u001B[0mx\u001B[0m\u001B[0;34m)\u001B[0m\u001B[0;34m\u001B[0m\u001B[0;34m\u001B[0m\u001B[0m\n\u001B[0;32m--> 256\u001B[0;31m         x, _ = convRNN_block(x, filters = num_filters * 4, kernel_size=3, strides = 1, \n\u001B[0m\u001B[1;32m    257\u001B[0m                           \u001B[0mrelu_alpha\u001B[0m \u001B[0;34m=\u001B[0m \u001B[0mrelu_alpha\u001B[0m\u001B[0;34m,\u001B[0m  \u001B[0mrnn_type\u001B[0m\u001B[0;34m=\u001B[0m\u001B[0mrnn_type\u001B[0m\u001B[0;34m,\u001B[0m \u001B[0mreturn_sequences\u001B[0m\u001B[0;34m=\u001B[0m \u001B[0;32mTrue\u001B[0m\u001B[0;34m,\u001B[0m\u001B[0;34m\u001B[0m\u001B[0;34m\u001B[0m\u001B[0m\n\u001B[1;32m    258\u001B[0m                          initial_state = state, batch_norm = batch_norm) \n",
      "\u001B[0;32m~/Programming/PyCharm/PycharmProjects/MSc thesis/Precipitation_Nowcasting_MScThesis/forecasting/GAN/model_builder_GAN.py\u001B[0m in \u001B[0;36mconvRNN_block\u001B[0;34m(x, filters, kernel_size, strides, rnn_type, padding, return_sequences, name, relu_alpha, wgan, batch_norm, return_state, initial_state)\u001B[0m\n\u001B[1;32m     83\u001B[0m         \u001B[0mlayer\u001B[0m \u001B[0;34m=\u001B[0m \u001B[0mtf\u001B[0m\u001B[0;34m.\u001B[0m\u001B[0mkeras\u001B[0m\u001B[0;34m.\u001B[0m\u001B[0mlayers\u001B[0m\u001B[0;34m.\u001B[0m\u001B[0mConvLSTM2D\u001B[0m\u001B[0;34m\u001B[0m\u001B[0;34m\u001B[0m\u001B[0m\n\u001B[1;32m     84\u001B[0m \u001B[0;34m\u001B[0m\u001B[0m\n\u001B[0;32m---> 85\u001B[0;31m     x= layer(name=name, filters=filters, kernel_size=kernel_size, strides=strides, \n\u001B[0m\u001B[1;32m     86\u001B[0m               \u001B[0mpadding\u001B[0m\u001B[0;34m=\u001B[0m\u001B[0mpadding\u001B[0m\u001B[0;34m,\u001B[0m \u001B[0mreturn_sequences\u001B[0m\u001B[0;34m=\u001B[0m\u001B[0mreturn_sequences\u001B[0m\u001B[0;34m,\u001B[0m \u001B[0mkernel_constraint\u001B[0m\u001B[0;34m=\u001B[0m\u001B[0mconst\u001B[0m\u001B[0;34m,\u001B[0m\u001B[0;34m\u001B[0m\u001B[0;34m\u001B[0m\u001B[0m\n\u001B[1;32m     87\u001B[0m               return_state = return_state)(x, initial_state = initial_state)\n",
      "\u001B[0;32m~/.conda/envs/python39/lib/python3.9/site-packages/tensorflow/python/keras/layers/recurrent.py\u001B[0m in \u001B[0;36m__call__\u001B[0;34m(self, inputs, initial_state, constants, **kwargs)\u001B[0m\n\u001B[1;32m    689\u001B[0m     \u001B[0;31m# but empty (e.g. the cell is stateless).\u001B[0m\u001B[0;34m\u001B[0m\u001B[0;34m\u001B[0m\u001B[0m\n\u001B[1;32m    690\u001B[0m     \u001B[0mflat_additional_inputs\u001B[0m \u001B[0;34m=\u001B[0m \u001B[0mnest\u001B[0m\u001B[0;34m.\u001B[0m\u001B[0mflatten\u001B[0m\u001B[0;34m(\u001B[0m\u001B[0madditional_inputs\u001B[0m\u001B[0;34m)\u001B[0m\u001B[0;34m\u001B[0m\u001B[0;34m\u001B[0m\u001B[0m\n\u001B[0;32m--> 691\u001B[0;31m     is_keras_tensor = backend.is_keras_tensor(\n\u001B[0m\u001B[1;32m    692\u001B[0m         flat_additional_inputs[0]) if flat_additional_inputs else True\n\u001B[1;32m    693\u001B[0m     \u001B[0;32mfor\u001B[0m \u001B[0mtensor\u001B[0m \u001B[0;32min\u001B[0m \u001B[0mflat_additional_inputs\u001B[0m\u001B[0;34m:\u001B[0m\u001B[0;34m\u001B[0m\u001B[0;34m\u001B[0m\u001B[0m\n",
      "\u001B[0;32m~/.conda/envs/python39/lib/python3.9/site-packages/tensorflow/python/keras/backend.py\u001B[0m in \u001B[0;36mis_keras_tensor\u001B[0;34m(x)\u001B[0m\n\u001B[1;32m   1279\u001B[0m                      \u001B[0msparse_tensor\u001B[0m\u001B[0;34m.\u001B[0m\u001B[0mSparseTensor\u001B[0m\u001B[0;34m,\u001B[0m \u001B[0mragged_tensor\u001B[0m\u001B[0;34m.\u001B[0m\u001B[0mRaggedTensor\u001B[0m\u001B[0;34m,\u001B[0m\u001B[0;34m\u001B[0m\u001B[0;34m\u001B[0m\u001B[0m\n\u001B[1;32m   1280\u001B[0m                      keras_tensor.KerasTensor)):\n\u001B[0;32m-> 1281\u001B[0;31m     raise ValueError('Unexpectedly found an instance of type `' + str(type(x)) +\n\u001B[0m\u001B[1;32m   1282\u001B[0m                      '`. Expected a symbolic tensor instance.')\n\u001B[1;32m   1283\u001B[0m   \u001B[0;32mif\u001B[0m \u001B[0mops\u001B[0m\u001B[0;34m.\u001B[0m\u001B[0mexecuting_eagerly_outside_functions\u001B[0m\u001B[0;34m(\u001B[0m\u001B[0;34m)\u001B[0m\u001B[0;34m:\u001B[0m\u001B[0;34m\u001B[0m\u001B[0;34m\u001B[0m\u001B[0m\n",
      "\u001B[0;31mValueError\u001B[0m: Unexpectedly found an instance of type `<class 'keras.engine.keras_tensor.KerasTensor'>`. Expected a symbolic tensor instance."
     ]
    }
   ],
   "source": [
    "model = GAN(rnn_type='GRU', x_length=x_length,\n",
    "            y_length=y_length, architecture=architecture, relu_alpha=.2,\n",
    "           l_adv = l_adv, l_rec = l_rec, g_cycles=3, label_smoothing=label_smoothing,\n",
    "           norm_method = 'minmax', downscale256 = True, rec_with_mae= False,\n",
    "           batch_norm = False)"
   ],
   "metadata": {
    "collapsed": false,
    "pycharm": {
     "name": "#%%\n"
    }
   }
  },
  {
   "cell_type": "code",
   "execution_count": null,
   "outputs": [],
   "source": [
    "model.compile(lr_g = lr_g, lr_d = lr_d)"
   ],
   "metadata": {
    "collapsed": false,
    "pycharm": {
     "name": "#%%\n"
    }
   }
  },
  {
   "cell_type": "code",
   "execution_count": null,
   "outputs": [],
   "source": [
    "generator = DataGenerator(list_IDs, batch_size=8, x_seq_size=x_length,\n",
    "                                       y_seq_size=y_length, load_prep=load_prep, y_is_rtcor= y_is_rtcor)"
   ],
   "metadata": {
    "collapsed": false,
    "pycharm": {
     "name": "#%%\n"
    }
   }
  },
  {
   "cell_type": "code",
   "execution_count": null,
   "outputs": [],
   "source": [
    "hist = model.fit(generator, epochs=1)"
   ],
   "metadata": {
    "collapsed": false,
    "pycharm": {
     "name": "#%%\n"
    }
   }
  }
 ],
 "metadata": {
  "kernelspec": {
   "display_name": "Python 3",
   "language": "python",
   "name": "python3"
  },
  "language_info": {
   "codemirror_mode": {
    "name": "ipython",
    "version": 2
   },
   "file_extension": ".py",
   "mimetype": "text/x-python",
   "name": "python",
   "nbconvert_exporter": "python",
   "pygments_lexer": "ipython2",
   "version": "2.7.6"
  }
 },
 "nbformat": 4,
 "nbformat_minor": 0
}