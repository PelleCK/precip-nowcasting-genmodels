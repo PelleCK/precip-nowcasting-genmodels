{
 "cells": [
  {
   "cell_type": "code",
   "execution_count": 2,
   "metadata": {
    "collapsed": true
   },
   "outputs": [
    {
     "ename": "ModuleNotFoundError",
     "evalue": "No module named 'pysteps'",
     "output_type": "error",
     "traceback": [
      "\u001B[0;31m---------------------------------------------------------------------------\u001B[0m",
      "\u001B[0;31mModuleNotFoundError\u001B[0m                       Traceback (most recent call last)",
      "Input \u001B[0;32mIn [2]\u001B[0m, in \u001B[0;36m<module>\u001B[0;34m\u001B[0m\n\u001B[1;32m      7\u001B[0m sys\u001B[38;5;241m.\u001B[39mpath\u001B[38;5;241m.\u001B[39mappend(\u001B[38;5;124m'\u001B[39m\u001B[38;5;124m/\u001B[39m\u001B[38;5;124m'\u001B[39m)\n\u001B[1;32m      8\u001B[0m sys\u001B[38;5;241m.\u001B[39mpath\u001B[38;5;241m.\u001B[39mappend(\u001B[38;5;124m'\u001B[39m\u001B[38;5;124m../\u001B[39m\u001B[38;5;124m'\u001B[39m)\n\u001B[0;32m---> 10\u001B[0m \u001B[38;5;28;01mfrom\u001B[39;00m \u001B[38;5;21;01mmodel_builder_GAN\u001B[39;00m \u001B[38;5;28;01mimport\u001B[39;00m GAN\n\u001B[1;32m     11\u001B[0m \u001B[38;5;28;01mfrom\u001B[39;00m \u001B[38;5;21;01mbatchcreator_GAN\u001B[39;00m \u001B[38;5;28;01mimport\u001B[39;00m DataGenerator, get_list_IDs\n",
      "File \u001B[0;32m~/Programming/PyCharm/PycharmProjects/MSc thesis/Precipitation_Nowcasting_MScThesis/forecasting/GAN/model_builder_GAN.py:16\u001B[0m, in \u001B[0;36m<module>\u001B[0;34m\u001B[0m\n\u001B[1;32m     13\u001B[0m \u001B[38;5;28;01mfrom\u001B[39;00m \u001B[38;5;21;01mtensorflow\u001B[39;00m\u001B[38;5;21;01m.\u001B[39;00m\u001B[38;5;21;01mkeras\u001B[39;00m\u001B[38;5;21;01m.\u001B[39;00m\u001B[38;5;21;01mconstraints\u001B[39;00m \u001B[38;5;28;01mimport\u001B[39;00m Constraint\n\u001B[1;32m     14\u001B[0m \u001B[38;5;28;01mfrom\u001B[39;00m \u001B[38;5;21;01mRepeatVector4D\u001B[39;00m \u001B[38;5;28;01mimport\u001B[39;00m RepeatVector4D\n\u001B[0;32m---> 16\u001B[0m \u001B[38;5;28;01mimport\u001B[39;00m \u001B[38;5;21;01mbatchcreator_GAN\u001B[39;00m\n\u001B[1;32m     17\u001B[0m \u001B[38;5;28;01mfrom\u001B[39;00m \u001B[38;5;21;01mbatchcreator_GAN\u001B[39;00m \u001B[38;5;28;01mimport\u001B[39;00m minmax, dbz_to_r\n\u001B[1;32m     19\u001B[0m \u001B[38;5;66;03m# implementation of wasserstein loss\u001B[39;00m\n",
      "File \u001B[0;32m~/Programming/PyCharm/PycharmProjects/MSc thesis/Precipitation_Nowcasting_MScThesis/forecasting/GAN/batchcreator_GAN.py:13\u001B[0m, in \u001B[0;36m<module>\u001B[0;34m\u001B[0m\n\u001B[1;32m     10\u001B[0m \u001B[38;5;28;01mfrom\u001B[39;00m \u001B[38;5;21;01mnetCDF4\u001B[39;00m \u001B[38;5;28;01mimport\u001B[39;00m Dataset\n\u001B[1;32m     11\u001B[0m \u001B[38;5;28;01mimport\u001B[39;00m \u001B[38;5;21;01mconfig_GAN\u001B[39;00m \u001B[38;5;28;01mas\u001B[39;00m \u001B[38;5;21;01mconf\u001B[39;00m\n\u001B[0;32m---> 13\u001B[0m \u001B[38;5;28;01mfrom\u001B[39;00m \u001B[38;5;21;01mpysteps\u001B[39;00m\u001B[38;5;21;01m.\u001B[39;00m\u001B[38;5;21;01mio\u001B[39;00m \u001B[38;5;28;01mimport\u001B[39;00m archive, read_timeseries, get_method\n\u001B[1;32m     14\u001B[0m \u001B[38;5;28;01mfrom\u001B[39;00m \u001B[38;5;21;01mpysteps\u001B[39;00m\u001B[38;5;21;01m.\u001B[39;00m\u001B[38;5;21;01mutils\u001B[39;00m \u001B[38;5;28;01mimport\u001B[39;00m conversion\n\u001B[1;32m     15\u001B[0m \u001B[38;5;28;01mfrom\u001B[39;00m \u001B[38;5;21;01mdatetime\u001B[39;00m \u001B[38;5;28;01mimport\u001B[39;00m datetime\n",
      "\u001B[0;31mModuleNotFoundError\u001B[0m: No module named 'pysteps'"
     ]
    }
   ],
   "source": [
    "from datetime import datetime\n",
    "import tensorflow as tf\n",
    "import numpy as np\n",
    "\n",
    "# Add parent directory to system path in order to import custom modules\n",
    "import sys\n",
    "sys.path.append('/')\n",
    "sys.path.append('../')\n",
    "\n",
    "from model_builder_GAN import GAN\n",
    "from batchcreator_GAN import DataGenerator, get_list_IDs"
   ]
  },
  {
   "cell_type": "code",
   "execution_count": null,
   "outputs": [],
   "source": [
    "\n",
    "# Set hyperparameters\n",
    "x_length = 6\n",
    "y_length = 3\n",
    "filter_no_rain = 'avg0.01mm'\n",
    "architecture = 'AENN'\n",
    "l_adv = 0.003\n",
    "l_rec = 1\n",
    "g_cycles = 3\n",
    "label_smoothing = 0.2\n",
    "lr_g = 0.003\n",
    "lr_d = 0.001\n",
    "\n",
    "# Loads preproccesed files:\n",
    "load_prep = True\n",
    "# Set rtcor as target (instead of aart)\n",
    "y_is_rtcor= True\n",
    "\n",
    "# Either select files by defining a time period or load a premade list of filenames:\n",
    "#start_dt = datetime(2019,6,1,0,0)\n",
    "#end_dt =  datetime(2019,7,1,0,0)\n",
    "#list_IDs = get_list_IDs(start_dt, end_dt, 6, 3, filter_no_rain=filter_no_rain, y_interval=30)\n",
    "\n",
    "# Select filename between a start date and end data\n",
    "# get_list_IDs function can take long time on RU server (limited cpu power I think?)\n",
    "# other option is to load predefined list of filenames, for example:\n",
    "list_IDs = np.load('data/train2015_2018_3y_30m.npy', allow_pickle=  True)\n",
    "list_IDs = list_IDs[:100] # reduce dataset size for testing purposes"
   ],
   "metadata": {
    "collapsed": false,
    "pycharm": {
     "name": "#%%\n"
    }
   }
  },
  {
   "cell_type": "code",
   "execution_count": null,
   "outputs": [],
   "source": [
    "\n",
    "model = GAN(rnn_type='GRU', x_length=x_length,\n",
    "            y_length=y_length, architecture=architecture, relu_alpha=.2,\n",
    "           l_adv = l_adv, l_rec = l_rec, g_cycles=3, label_smoothing=label_smoothing,\n",
    "           norm_method = 'minmax', downscale256 = True, rec_with_mae= False,\n",
    "           batch_norm = False)\n",
    "model.compile(lr_g = lr_g, lr_d = lr_d)\n",
    "\n",
    "generator = DataGenerator(list_IDs, batch_size=8, x_seq_size=x_length,\n",
    "                                       y_seq_size=y_length, load_prep=load_prep, y_is_rtcor= y_is_rtcor)\n",
    "hist = model.fit(generator, epochs=1)\n"
   ],
   "metadata": {
    "collapsed": false,
    "pycharm": {
     "name": "#%%\n"
    }
   }
  }
 ],
 "metadata": {
  "kernelspec": {
   "display_name": "Python 3",
   "language": "python",
   "name": "python3"
  },
  "language_info": {
   "codemirror_mode": {
    "name": "ipython",
    "version": 2
   },
   "file_extension": ".py",
   "mimetype": "text/x-python",
   "name": "python",
   "nbconvert_exporter": "python",
   "pygments_lexer": "ipython2",
   "version": "2.7.6"
  }
 },
 "nbformat": 4,
 "nbformat_minor": 0
}