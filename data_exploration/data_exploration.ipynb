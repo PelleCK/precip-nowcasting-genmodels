{
 "cells": [
  {
   "cell_type": "markdown",
   "metadata": {
    "collapsed": true,
    "pycharm": {
     "name": "#%% md\n"
    }
   },
   "source": [
    "# Data exploration"
   ]
  },
  {
   "cell_type": "markdown",
   "source": [
    "## Imports"
   ],
   "metadata": {
    "collapsed": false,
    "pycharm": {
     "name": "#%% md\n"
    }
   }
  },
  {
   "cell_type": "code",
   "execution_count": 1,
   "outputs": [],
   "source": [
    "import os\n",
    "os.environ[\"PROJ_LIB\"] = os.path.join(os.environ[\"CONDA_PREFIX\"], \"share\", \"proj\")"
   ],
   "metadata": {
    "collapsed": false,
    "pycharm": {
     "name": "#%%\n"
    }
   }
  },
  {
   "cell_type": "code",
   "execution_count": 2,
   "outputs": [],
   "source": [
    "from os import listdir\n",
    "from os.path import isfile, join\n",
    "import h5py\n",
    "import numpy as np\n",
    "import pandas as pd\n",
    "import matplotlib.pyplot as plt\n",
    "import matplotlib.colors as mcolors\n",
    "import matplotlib.cm as cm\n",
    "from matplotlib.colors import LinearSegmentedColormap\n",
    "from matplotlib.colors import LinearSegmentedColormap\n",
    "import re\n",
    "from IPython import display\n",
    "import glob\n",
    "import imageio\n",
    "from datetime import datetime\n",
    "from tqdm import tqdm\n",
    "import re\n",
    "import netCDF4\n",
    "from pyproj import Proj, transform\n",
    "import mpl_toolkits"
   ],
   "metadata": {
    "collapsed": false,
    "pycharm": {
     "name": "#%%\n"
    }
   }
  },
  {
   "cell_type": "code",
   "execution_count": 3,
   "outputs": [],
   "source": [
    "from data_functions import *"
   ],
   "metadata": {
    "collapsed": false,
    "pycharm": {
     "name": "#%%\n"
    }
   }
  },
  {
   "cell_type": "markdown",
   "source": [
    "## Data loader"
   ],
   "metadata": {
    "collapsed": false,
    "pycharm": {
     "name": "#%% md\n"
    }
   }
  },
  {
   "cell_type": "code",
   "execution_count": 4,
   "outputs": [],
   "source": [
    "dir_rtcor = '/Volumes/lacie_msc_datascience/msc_thesis/ceph_knmimo/dataset_radar/'\n",
    "rtcor_fbase = 'RAD_NL25_RAC_RT_'\n",
    "dir_aart = '/Volumes/lacie_msc_datascience/msc_thesis/ceph_knmimo/dataset_aart/'\n",
    "aart_fbase = 'RAD_NL25_RAC_MFBS_EM_5min_'\n",
    "\n",
    "#RAD_NL25_RAC_5M_"
   ],
   "metadata": {
    "collapsed": false,
    "pycharm": {
     "name": "#%%\n"
    }
   }
  },
  {
   "cell_type": "code",
   "execution_count": 5,
   "outputs": [
    {
     "name": "stdout",
     "output_type": "stream",
     "text": [
      "104034\n"
     ]
    }
   ],
   "source": [
    "radar_dir = dir_rtcor\n",
    "files = sorted([f for f in listdir(radar_dir) if isfile(join(radar_dir, f))])\n",
    "print(len(files))"
   ],
   "metadata": {
    "collapsed": false,
    "pycharm": {
     "name": "#%%\n"
    }
   }
  },
  {
   "cell_type": "code",
   "execution_count": 24,
   "outputs": [],
   "source": [
    "#rtcor_dir = '/Volumes/lacie_msc_datascience/msc_thesis/ceph_knmimo/dataset_rtcor/'\n",
    "#files_rtcor = sorted([f for f in listdir(rtcor_dir) if isfile(join(rtcor_dir, f))])\n",
    "#print(len(files_rtcor))"
   ],
   "metadata": {
    "collapsed": false,
    "pycharm": {
     "name": "#%%\n"
    }
   }
  },
  {
   "cell_type": "code",
   "execution_count": 26,
   "outputs": [],
   "source": [
    "#files_aart = sorted([f for f in listdir(dir_aart) if isfile(join(dir_aart, f))])\n",
    "#print(len(files_aart))"
   ],
   "metadata": {
    "collapsed": false,
    "pycharm": {
     "name": "#%%\n"
    }
   }
  },
  {
   "cell_type": "code",
   "execution_count": 17,
   "outputs": [],
   "source": [
    "regex_timestamp = re.compile('(\\d{12})\\.h5')\n",
    "def get_datetime(filename):\n",
    "    '''\n",
    "    Infer datetime from filename\n",
    "    '''\n",
    "    timestamp=None\n",
    "    dt=None\n",
    "    # check if regex pattern finds a timestamp\n",
    "    try:\n",
    "        timestamp = regex_timestamp.findall(filename)[0]\n",
    "        dt = datetime.strptime(str(timestamp), '%Y%m%d%H%M')\n",
    "    except:\n",
    "        print('Error: could not find timestamp in file {}'.format(filename))\n",
    "    return dt\n",
    "\n",
    "def get_diff_minutes(d1, d2):\n",
    "    '''\n",
    "    Returns the difference in minutes between first date d1 and the next date d2\n",
    "    '''\n",
    "    diff = int((d2-d1).seconds / 60)\n",
    "    return diff\n",
    "\n",
    "def gap_between(filename1, filename2, gapsize=5):\n",
    "    '''\n",
    "    Checks if difference in time between two consecutive files is 5 minutes.\n",
    "    If it is not, print the two timestamps\n",
    "    Returns the number of scans missing between two files (time difference/5)\n",
    "    '''\n",
    "    #print(filename1, filename2)\n",
    "    d1 = get_datetime(filename1)\n",
    "    d2 = get_datetime(filename2)\n",
    "\n",
    "    diff = get_diff_minutes(d1, d2)\n",
    "\n",
    "    if diff != 5 and diff != gapsize:\n",
    "        print('{} minutes gap between {} and {}'.format(diff,d1,d2))\n",
    "        return diff/5\n",
    "    return 0"
   ],
   "metadata": {
    "collapsed": false,
    "pycharm": {
     "name": "#%%\n"
    }
   }
  },
  {
   "cell_type": "code",
   "execution_count": 18,
   "outputs": [
    {
     "name": "stdout",
     "output_type": "stream",
     "text": [
      "245 minutes gap between 2018-12-20 19:55:00 and 2019-01-01 00:00:00\n",
      "15 minutes gap between 2019-01-12 12:30:00 and 2019-01-12 12:45:00\n",
      "15 minutes gap between 2019-01-12 14:10:00 and 2019-01-12 14:25:00\n",
      "15 minutes gap between 2019-01-12 14:35:00 and 2019-01-12 14:50:00\n",
      "15 minutes gap between 2019-01-12 20:35:00 and 2019-01-12 20:50:00\n",
      "130 minutes gap between 2019-02-08 23:05:00 and 2019-02-09 01:15:00\n",
      "65 minutes gap between 2019-02-09 01:30:00 and 2019-02-09 02:35:00\n",
      "15 minutes gap between 2019-02-14 10:45:00 and 2019-02-14 11:00:00\n",
      "50 minutes gap between 2019-03-31 18:55:00 and 2019-03-31 19:45:00\n",
      "15 minutes gap between 2019-04-08 21:05:00 and 2019-04-08 21:20:00\n",
      "75 minutes gap between 2019-04-30 18:05:00 and 2019-04-30 19:20:00\n",
      "390 minutes gap between 2019-05-27 22:55:00 and 2019-05-28 05:25:00\n",
      "75 minutes gap between 2019-07-09 08:30:00 and 2019-07-09 09:45:00\n",
      "30 minutes gap between 2019-07-27 17:30:00 and 2019-07-27 18:00:00\n",
      "30 minutes gap between 2019-09-17 08:50:00 and 2019-09-17 09:20:00\n",
      "1055 minutes gap between 2019-09-30 08:00:00 and 2019-10-01 01:35:00\n",
      "715 minutes gap between 2019-10-01 08:00:00 and 2019-10-01 19:55:00\n",
      "715 minutes gap between 2019-10-02 08:00:00 and 2019-10-02 19:55:00\n",
      "15 minutes gap between 2019-10-14 06:55:00 and 2019-10-14 07:10:00\n",
      "75 minutes gap between 2019-12-27 13:45:00 and 2019-12-27 15:00:00\n",
      "1145 minutes gap between 2019-12-31 23:55:00 and 2020-01-20 19:00:00\n",
      "1385 minutes gap between 2020-01-20 19:55:00 and 2020-02-20 19:00:00\n",
      "1385 minutes gap between 2020-02-20 19:55:00 and 2020-03-20 19:00:00\n",
      "1385 minutes gap between 2020-03-20 19:55:00 and 2020-04-20 19:00:00\n",
      "1385 minutes gap between 2020-04-20 19:55:00 and 2020-05-20 19:00:00\n",
      "1385 minutes gap between 2020-05-20 19:55:00 and 2020-06-20 19:00:00\n",
      "1385 minutes gap between 2020-06-20 19:55:00 and 2020-07-20 19:00:00\n",
      "1385 minutes gap between 2020-07-20 19:55:00 and 2020-08-20 19:00:00\n",
      "1385 minutes gap between 2020-08-20 19:55:00 and 2020-09-20 19:00:00\n",
      "1385 minutes gap between 2020-09-20 19:55:00 and 2020-10-20 19:00:00\n",
      "1385 minutes gap between 2020-10-20 19:55:00 and 2020-11-20 19:00:00\n",
      "1385 minutes gap between 2020-11-20 19:55:00 and 2020-12-20 19:00:00\n",
      "1385 minutes gap between 2020-12-20 19:55:00 and 2021-01-20 19:00:00\n",
      "1385 minutes gap between 2021-01-20 19:55:00 and 2021-02-20 19:00:00\n",
      "There are 34 gaps in the data\n",
      "Missing 4581 out of the 108615 radar scans (0.04%)\n",
      "Error: could not find timestamp in file .DS_Store\n",
      "From None till 2021-02-20 19:55:00\n"
     ]
    }
   ],
   "source": [
    "radar_scans = files\n",
    "gaps=[]\n",
    "for i in range(0,len(radar_scans)-2):\n",
    "    # check if tim\n",
    "    gap_size = gap_between(radar_scans[i+1],radar_scans[i+2], gapsize=10)\n",
    "    if  gap_size != 0:\n",
    "        gaps.append([radar_scans[i], radar_scans[i+1], gap_size])\n",
    "gaps=np.array(gaps)\n",
    "print('There are {} gaps in the data'.format(len(gaps)))\n",
    "nr_missing_scans=int(sum(map(float, gaps[:,2])))\n",
    "total_scans = (len(radar_scans) + nr_missing_scans)\n",
    "perc_missing = nr_missing_scans/total_scans\n",
    "print('Missing {} out of the {} radar scans ({:.2f}%)'.format(nr_missing_scans, total_scans, perc_missing))\n",
    "print('From {} till {}'.format(get_datetime(radar_scans[0]), get_datetime(radar_scans[-1])))"
   ],
   "metadata": {
    "collapsed": false,
    "pycharm": {
     "name": "#%%\n"
    }
   }
  },
  {
   "cell_type": "markdown",
   "source": [
    "108615 instead of 228474"
   ],
   "metadata": {
    "collapsed": false,
    "pycharm": {
     "name": "#%% md\n"
    }
   }
  },
  {
   "cell_type": "code",
   "execution_count": 78,
   "outputs": [
    {
     "name": "stdout",
     "output_type": "stream",
     "text": [
      "RAD_NL25_RAC_RT_201812201945.h5\n"
     ]
    },
    {
     "data": {
      "text/plain": "<Figure size 432x288 with 1 Axes>",
      "image/png": "[encoded data removed]"
     },
     "metadata": {
      "needs_background": "light"
     },
     "output_type": "display_data"
    }
   ],
   "source": [
    "print(files[10])\n",
    "file_name_rdr = files[10]\n",
    "rdr = load_radar(filename=file_name_rdr, dir_rtcor=dir_rtcor, rtcor_fbase=rtcor_fbase, dir_aart=dir_aart, aart_fbase=aart_fbase)\n",
    "plot_radar(rdr)"
   ],
   "metadata": {
    "collapsed": false,
    "pycharm": {
     "name": "#%%\n"
    }
   }
  },
  {
   "cell_type": "code",
   "execution_count": 79,
   "outputs": [
    {
     "name": "stdout",
     "output_type": "stream",
     "text": [
      "[  0   1   2   3   4   5   6   7   8   9  10  11  12  13  14  15  16  17\n",
      "  18  19  20  21  22  23  24  25  26  27  28  29  30  31  32  33  34  35\n",
      "  36  37  38  39  40  41  42  43  44  45  46  47  48  50  53  54  58  60\n",
      "  62  76 107 162]\n"
     ]
    },
    {
     "data": {
      "text/plain": "<Figure size 432x288 with 1 Axes>",
      "image/png": "[encoded data removed]"
     },
     "metadata": {
      "needs_background": "light"
     },
     "output_type": "display_data"
    },
    {
     "name": "stdout",
     "output_type": "stream",
     "text": [
      "[32768 65535]\n"
     ]
    },
    {
     "data": {
      "text/plain": "<Figure size 432x288 with 1 Axes>",
      "image/png": "[encoded data removed]"
     },
     "metadata": {
      "needs_background": "light"
     },
     "output_type": "display_data"
    }
   ],
   "source": [
    "h5f = h5py.File(dir_rtcor+files[10], 'r')\n",
    "radar_img = np.array(h5f['image1']['image_data'])\n",
    "# change masked values to 0\n",
    "radar_img[radar_img == 65535] = 0\n",
    "plt.imshow(radar_img)\n",
    "print(np.unique(radar_img.flatten()))\n",
    "plt.show()\n",
    "\n",
    "img_mask = np.array(h5f['image2']['image_data'])\n",
    "print(np.unique(img_mask.flatten()))\n",
    "plt.imshow(img_mask) # interpolation='none'\n",
    "plt.show()"
   ],
   "metadata": {
    "collapsed": false,
    "pycharm": {
     "name": "#%%\n"
    }
   }
  },
  {
   "cell_type": "code",
   "execution_count": 80,
   "outputs": [
    {
     "data": {
      "text/plain": "<Figure size 432x288 with 1 Axes>",
      "image/png": "[encoded data removed]"
     },
     "metadata": {
      "needs_background": "light"
     },
     "output_type": "display_data"
    }
   ],
   "source": [
    "mask = get_mask(h5f)\n",
    "plt.imshow(mask, cmap='gray', vmin=0, vmax=1)\n",
    "plt.show()"
   ],
   "metadata": {
    "collapsed": false,
    "pycharm": {
     "name": "#%%\n"
    }
   }
  },
  {
   "cell_type": "code",
   "execution_count": 83,
   "outputs": [
    {
     "data": {
      "text/plain": "<Figure size 432x288 with 1 Axes>",
      "image/png": "[encoded data removed]"
     },
     "metadata": {
      "needs_background": "light"
     },
     "output_type": "display_data"
    }
   ],
   "source": [
    "h5f = h5py.File(dir_rtcor+files[10], 'r')\n",
    "plot_radar(h5f,show_mask=True)"
   ],
   "metadata": {
    "collapsed": false,
    "pycharm": {
     "name": "#%%\n"
    }
   }
  },
  {
   "cell_type": "markdown",
   "source": [
    "## Data exploration of radar images for precipitation"
   ],
   "metadata": {
    "collapsed": false,
    "pycharm": {
     "name": "#%% md\n"
    }
   }
  },
  {
   "cell_type": "markdown",
   "source": [
    "### Number of days 2020"
   ],
   "metadata": {
    "collapsed": false,
    "pycharm": {
     "name": "#%% md\n"
    }
   }
  },
  {
   "cell_type": "code",
   "execution_count": 84,
   "outputs": [
    {
     "name": "stdout",
     "output_type": "stream",
     "text": [
      "103866 104009\n",
      "143\n",
      "Nr. of days in dataset 2020:  0.4965277777777778\n"
     ]
    }
   ],
   "source": [
    "base = 'RAD_NL25_RAC_RT_'\n",
    "# Get start and end index\n",
    "# 2020 01 01 00:00\n",
    "start = base + '202001201900.h5'\n",
    "# 2020 12 31 11:55\n",
    "end = base + '202012201955.h5'\n",
    "start_i = files.index(start)\n",
    "end_i = files.index(end)\n",
    "print(start_i, end_i)\n",
    "files_2020 = files[start_i:end_i]\n",
    "print(len(files_2020))\n",
    "print('Nr. of days in dataset 2020: ', len(files_2020)/288)"
   ],
   "metadata": {
    "collapsed": false,
    "pycharm": {
     "name": "#%%\n"
    }
   }
  },
  {
   "cell_type": "markdown",
   "source": [
    "0.497 instead of 365"
   ],
   "metadata": {
    "collapsed": false,
    "pycharm": {
     "name": "#%% md\n"
    }
   }
  },
  {
   "cell_type": "markdown",
   "source": [
    "### Number of days 2019"
   ],
   "metadata": {
    "collapsed": false,
    "pycharm": {
     "name": "#%% md\n"
    }
   }
  },
  {
   "cell_type": "code",
   "execution_count": 85,
   "outputs": [
    {
     "name": "stdout",
     "output_type": "stream",
     "text": [
      "13 103865\n",
      "103852\n",
      "Nr. of days in dataset 2019:  360.59722222222223\n"
     ]
    }
   ],
   "source": [
    "base = 'RAD_NL25_RAC_RT_'\n",
    "# Get start and end index\n",
    "start = base + '201901010000.h5'\n",
    "end = base + '201912312355.h5'\n",
    "start_i = files.index(start)\n",
    "end_i = files.index(end)\n",
    "print(start_i, end_i)\n",
    "files_2019 = files[start_i:end_i]\n",
    "print(len(files_2019))\n",
    "print('Nr. of days in dataset 2019: ', len(files_2019)/288)"
   ],
   "metadata": {
    "collapsed": false,
    "pycharm": {
     "name": "#%%\n"
    }
   }
  },
  {
   "cell_type": "markdown",
   "source": [
    "### Rain in 2019"
   ],
   "metadata": {
    "collapsed": false,
    "pycharm": {
     "name": "#%% md\n"
    }
   }
  },
  {
   "cell_type": "code",
   "execution_count": null,
   "outputs": [],
   "source": [
    "sum_rain2019 = []\n",
    "empty_files=[]\n",
    "for file in tqdm(files_2019):\n",
    "    date = get_datetime(file)\n",
    "    rdr = load_radar(filename=file, dir_rtcor=dir_rtcor, rtcor_fbase=rtcor_fbase, dir_aart=dir_aart, aart_fbase=aart_fbase, as_int=True)\n",
    "    try:\n",
    "        sum_rain2019.append([date, int(rdr.sum())])\n",
    "    except:\n",
    "        print(date)\n",
    "        sum_rain2019.append([date, 0])\n",
    "np_arr = np.array(sum_rain2019)"
   ],
   "metadata": {
    "collapsed": false,
    "pycharm": {
     "name": "#%%\n"
    }
   }
  },
  {
   "cell_type": "code",
   "execution_count": null,
   "outputs": [],
   "source": [
    "np.save('/Volumes/lacie_msc_datascience/msc_thesis/github_pycharm/sum_rain2019', np_arr)"
   ],
   "metadata": {
    "collapsed": false,
    "pycharm": {
     "name": "#%%\n"
    }
   }
  },
  {
   "cell_type": "code",
   "execution_count": null,
   "outputs": [],
   "source": [
    "df = pd.DataFrame({'date': np_arr[:, 0], 'mean_rain': np_arr[:, 1]})\n",
    "df['date'] = pd.to_datetime(df['date'])\n",
    "df = df.set_index('date')\n",
    "df.head()"
   ],
   "metadata": {
    "collapsed": false,
    "pycharm": {
     "name": "#%%\n"
    }
   }
  },
  {
   "cell_type": "code",
   "execution_count": null,
   "outputs": [],
   "source": [
    "monthly_rain = df.mean_rain.resample('M').sum()\n",
    "monthly_rain.plot()"
   ],
   "metadata": {
    "collapsed": false,
    "pycharm": {
     "name": "#%%\n"
    }
   }
  },
  {
   "cell_type": "markdown",
   "source": [
    "### .npy data"
   ],
   "metadata": {
    "collapsed": false,
    "pycharm": {
     "name": "#%% md\n"
    }
   }
  },
  {
   "cell_type": "code",
   "execution_count": 89,
   "outputs": [
    {
     "name": "stdout",
     "output_type": "stream",
     "text": [
      "6120\n"
     ]
    }
   ],
   "source": [
    "radar_dir_np = '/Volumes/lacie_msc_datascience/msc_thesis/ceph_knmimo/preprocessed/rtcor/'\n",
    "files = sorted([f for f in listdir(radar_dir_np) if isfile(join(radar_dir_np, f)) and f.startswith('2019')])\n",
    "print(len(files))"
   ],
   "metadata": {
    "collapsed": false,
    "pycharm": {
     "name": "#%%\n"
    }
   }
  },
  {
   "cell_type": "code",
   "execution_count": 90,
   "outputs": [
    {
     "name": "stdout",
     "output_type": "stream",
     "text": [
      "201901130430.npy 201912292030.npy\n"
     ]
    }
   ],
   "source": [
    "print(files[0], files[-1])"
   ],
   "metadata": {
    "collapsed": false,
    "pycharm": {
     "name": "#%%\n"
    }
   }
  },
  {
   "cell_type": "code",
   "execution_count": 94,
   "outputs": [
    {
     "data": {
      "text/plain": "<matplotlib.image.AxesImage at 0x7fb31b4ea410>"
     },
     "execution_count": 94,
     "metadata": {},
     "output_type": "execute_result"
    },
    {
     "data": {
      "text/plain": "<Figure size 432x288 with 1 Axes>",
      "image/png": "[encoded data removed]"
     },
     "metadata": {
      "needs_background": "light"
     },
     "output_type": "display_data"
    }
   ],
   "source": [
    "f = '201906060025.npy'\n",
    "rdr = np.load(radar_dir_np+f)\n",
    "rdr[rdr == 65535] = 0\n",
    "#rdr[rdr > 500] = 0\n",
    "plt.imshow(rdr)"
   ],
   "metadata": {
    "collapsed": false,
    "pycharm": {
     "name": "#%%\n"
    }
   }
  },
  {
   "cell_type": "code",
   "execution_count": 102,
   "outputs": [
    {
     "name": "stdout",
     "output_type": "stream",
     "text": [
      "201906060000.npy\n",
      "[0.7213282  0.7304109  0.7394824  0.76675385 0.7758008 ]\n",
      "0.05173\n",
      "No pixel above 0.3mm: True\n",
      "Number of rainy pixels: [0]\n",
      "0\n"
     ]
    },
    {
     "data": {
      "text/plain": "<Figure size 432x288 with 4 Axes>",
      "image/png": "[encoded data removed]"
     },
     "metadata": {
      "needs_background": "light"
     },
     "output_type": "display_data"
    }
   ],
   "source": [
    "thresh_up=100*100\n",
    "thresh_low=100*0.3\n",
    "\n",
    "f ='201906060000.npy'\n",
    "rdr = np.load(radar_dir_np+f)\n",
    "rdr[rdr == 255] = 0\n",
    "rdr[rdr == 65535] = 0\n",
    "print(f)\n",
    "print(np.unique(rdr)[-5:])\n",
    "print('{:.5f}'.format(rdr.mean()))\n",
    "\n",
    "rdr2 = np.load(radar_dir_np+f)\n",
    "\n",
    "print('No pixel above 0.3mm:', rdr.max()<thresh_low)\n",
    "print('Number of rainy pixels:', sum(sum(rdr>thresh_low)))\n",
    "rdr2[rdr2 == 65535] = 0\n",
    "rdr2[np.logical_or(rdr2 > thresh_up, rdr2 < thresh_low )] = 0\n",
    "\n",
    "rdr3 = np.load(radar_dir_np+f)\n",
    "print(np.sum(rdr3==65535))\n",
    "rdr3[rdr3 == 65535] = 0\n",
    "rdr3 = rdr3 > thresh_up\n",
    "\n",
    "rdr4 = np.load(radar_dir_np+f)\n",
    "rdr4[rdr4 == 65535] = 0\n",
    "rdr4 = rdr4 < thresh_low\n",
    "\n",
    "plt.figure()\n",
    "plt.subplot(2,2,1)\n",
    "plt.imshow(rdr)\n",
    "plt.subplot(2,2,2)\n",
    "plt.imshow(rdr2)\n",
    "plt.subplot(2,2,3)\n",
    "\n",
    "plt.imshow(rdr3, cmap='binary')\n",
    "plt.subplot(2,2,4)\n",
    "plt.imshow(rdr4, cmap='binary')\n",
    "plt.show()"
   ],
   "metadata": {
    "collapsed": false,
    "pycharm": {
     "name": "#%%\n"
    }
   }
  },
  {
   "cell_type": "code",
   "execution_count": 103,
   "outputs": [
    {
     "name": "stdout",
     "output_type": "stream",
     "text": [
      "0 \t 53810\n",
      "0 \t 2231\n",
      "0 \t 2314\n",
      "0 \t 2385\n",
      "0 \t 2654\n",
      "0 \t 1520\n",
      "0 \t 489\n",
      "0 \t 79\n",
      "0 \t 40\n",
      "0 \t 14\n"
     ]
    }
   ],
   "source": [
    "count, value = np.histogram(rdr)\n",
    "for i in range(len(count)):\n",
    "    print(int(value[i]), '\\t', count[i] )"
   ],
   "metadata": {
    "collapsed": false,
    "pycharm": {
     "name": "#%%\n"
    }
   }
  },
  {
   "cell_type": "code",
   "execution_count": 106,
   "outputs": [
    {
     "name": "stdout",
     "output_type": "stream",
     "text": [
      "index max value: (array([112]), array([135]), array([0]))\n",
      "x and y: (array([0]), array([112]), array([0]))\n",
      "x and y: (array([0]), array([135]), array([0]))\n",
      "x and y: (array([0]), array([0]), array([0]))\n"
     ]
    }
   ],
   "source": [
    "indices = np.where(rdr == rdr.max())\n",
    "print('index max value:', indices)\n",
    "for ind in indices:\n",
    "    x_and_y =np.unravel_index(ind, rdr.shape)\n",
    "    print('x and y:', x_and_y)"
   ],
   "metadata": {
    "collapsed": false,
    "pycharm": {
     "name": "#%%\n"
    }
   }
  },
  {
   "cell_type": "markdown",
   "source": [
    "### aart data"
   ],
   "metadata": {
    "collapsed": false,
    "pycharm": {
     "name": "#%% md\n"
    }
   }
  },
  {
   "cell_type": "code",
   "execution_count": 109,
   "outputs": [
    {
     "name": "stdout",
     "output_type": "stream",
     "text": [
      "106704\n"
     ]
    }
   ],
   "source": [
    "dir_aart = '/Volumes/lacie_msc_datascience/msc_thesis/ceph_knmimo/dataset_aart/2019/'\n",
    "files = sorted([f for f in listdir(dir_aart) if isfile(join(dir_aart, f)) and f.endswith('.nc')])\n",
    "print(len(files))\n",
    "\n",
    "aart_fbase = 'RAD_NL25_RAC_MFBS_EM_5min_'"
   ],
   "metadata": {
    "collapsed": false,
    "pycharm": {
     "name": "#%%\n"
    }
   }
  },
  {
   "cell_type": "code",
   "execution_count": 110,
   "outputs": [
    {
     "name": "stdout",
     "output_type": "stream",
     "text": [
      "1440 106415\n",
      "Nr. of days in dataset 2019 (aart):  364.49652777777777\n",
      "104975\n"
     ]
    }
   ],
   "source": [
    "# Get start and end index\n",
    "# 2019 01 01 00:00\n",
    "base = 'RAD_NL25_RAC_MFBS_EM_5min_'\n",
    "start = base +'201901010000.nc'\n",
    "# 2019 12 31 11:55\n",
    "end = base+'201912311155.nc'\n",
    "start_i = files.index(start)\n",
    "end_i = files.index(end)\n",
    "print(start_i, end_i)\n",
    "files_2019 = files[start_i:end_i]\n",
    "print('Nr. of days in dataset 2019 (aart): ', len(files_2019)/288)\n",
    "print(len(files_2019))"
   ],
   "metadata": {
    "collapsed": false,
    "pycharm": {
     "name": "#%%\n"
    }
   }
  },
  {
   "cell_type": "code",
   "execution_count": 111,
   "outputs": [
    {
     "name": "stderr",
     "output_type": "stream",
     "text": [
      " 29%|██▊       | 30157/104975 [17:31<41:32, 30.01it/s]  "
     ]
    },
    {
     "name": "stdout",
     "output_type": "stream",
     "text": [
      "2019-04-15 16:35:00\n"
     ]
    },
    {
     "name": "stderr",
     "output_type": "stream",
     "text": [
      " 32%|███▏      | 33097/104975 [19:12<39:06, 30.64it/s]  "
     ]
    },
    {
     "name": "stdout",
     "output_type": "stream",
     "text": [
      "2019-04-25 21:35:00\n"
     ]
    },
    {
     "name": "stderr",
     "output_type": "stream",
     "text": [
      " 33%|███▎      | 34387/104975 [19:59<38:59, 30.18it/s]  "
     ]
    },
    {
     "name": "stdout",
     "output_type": "stream",
     "text": [
      "2019-04-30 09:05:00\n",
      "2019-04-30 09:10:00\n",
      "2019-04-30 09:15:00\n",
      "2019-04-30 09:20:00\n",
      "2019-04-30 09:25:00\n",
      "2019-04-30 09:30:00\n",
      "2019-04-30 09:35:00\n"
     ]
    },
    {
     "name": "stderr",
     "output_type": "stream",
     "text": [
      " 33%|███▎      | 34395/104975 [19:59<37:43, 31.18it/s]"
     ]
    },
    {
     "name": "stdout",
     "output_type": "stream",
     "text": [
      "2019-04-30 09:40:00\n",
      "2019-04-30 09:45:00\n",
      "2019-04-30 09:50:00\n",
      "2019-04-30 09:55:00\n",
      "2019-04-30 10:00:00\n",
      "2019-04-30 10:05:00\n"
     ]
    },
    {
     "name": "stderr",
     "output_type": "stream",
     "text": [
      " 35%|███▍      | 36332/104975 [21:08<37:03, 30.87it/s]  "
     ]
    },
    {
     "name": "stdout",
     "output_type": "stream",
     "text": [
      "2019-05-07 03:20:00\n"
     ]
    },
    {
     "name": "stderr",
     "output_type": "stream",
     "text": [
      " 40%|████      | 42348/104975 [24:40<33:08, 31.50it/s]  "
     ]
    },
    {
     "name": "stdout",
     "output_type": "stream",
     "text": [
      "2019-05-28 00:35:00\n"
     ]
    },
    {
     "name": "stderr",
     "output_type": "stream",
     "text": [
      " 40%|████      | 42360/104975 [24:40<31:58, 32.64it/s]"
     ]
    },
    {
     "name": "stdout",
     "output_type": "stream",
     "text": [
      "2019-05-28 01:35:00\n",
      "2019-05-28 01:40:00\n"
     ]
    },
    {
     "name": "stderr",
     "output_type": "stream",
     "text": [
      " 57%|█████▋    | 59825/104975 [35:11<26:08, 28.78it/s]  "
     ]
    },
    {
     "name": "stdout",
     "output_type": "stream",
     "text": [
      "2019-07-27 17:05:00\n",
      "2019-07-27 17:10:00\n",
      "2019-07-27 17:15:00\n",
      "2019-07-27 17:20:00\n",
      "2019-07-27 17:25:00\n",
      "2019-07-27 17:30:00\n"
     ]
    },
    {
     "name": "stderr",
     "output_type": "stream",
     "text": [
      " 57%|█████▋    | 59831/104975 [35:11<26:41, 28.19it/s]"
     ]
    },
    {
     "name": "stdout",
     "output_type": "stream",
     "text": [
      "2019-07-27 17:35:00\n",
      "2019-07-27 17:40:00\n",
      "2019-07-27 17:45:00\n",
      "2019-07-27 17:50:00\n",
      "2019-07-27 17:55:00\n",
      "2019-07-27 18:00:00\n"
     ]
    },
    {
     "name": "stderr",
     "output_type": "stream",
     "text": [
      " 68%|██████▊   | 71814/104975 [42:55<20:30, 26.96it/s]  "
     ]
    },
    {
     "name": "stdout",
     "output_type": "stream",
     "text": [
      "2019-09-07 08:10:00\n"
     ]
    },
    {
     "name": "stderr",
     "output_type": "stream",
     "text": [
      " 79%|███████▊  | 82459/104975 [49:20<12:56, 29.01it/s]"
     ]
    },
    {
     "name": "stdout",
     "output_type": "stream",
     "text": [
      "2019-10-14 07:05:00\n"
     ]
    },
    {
     "name": "stderr",
     "output_type": "stream",
     "text": [
      " 89%|████████▉ | 93247/104975 [55:36<06:43, 29.06it/s]"
     ]
    },
    {
     "name": "stdout",
     "output_type": "stream",
     "text": [
      "2019-11-20 18:05:00\n",
      "2019-11-20 18:10:00\n",
      "2019-11-20 18:15:00\n",
      "2019-11-20 18:20:00\n",
      "2019-11-20 18:25:00\n",
      "2019-11-20 18:30:00\n",
      "2019-11-20 18:35:00\n",
      "2019-11-20 18:40:00\n"
     ]
    },
    {
     "name": "stderr",
     "output_type": "stream",
     "text": [
      " 89%|████████▉ | 93255/104975 [55:36<06:35, 29.60it/s]"
     ]
    },
    {
     "name": "stdout",
     "output_type": "stream",
     "text": [
      "2019-11-20 18:45:00\n",
      "2019-11-20 18:50:00\n",
      "2019-11-20 18:55:00\n",
      "2019-11-20 19:00:00\n",
      "2019-11-20 19:05:00\n",
      "2019-11-20 19:10:00\n"
     ]
    },
    {
     "name": "stderr",
     "output_type": "stream",
     "text": [
      " 89%|████████▉ | 93262/104975 [55:37<06:28, 30.11it/s]"
     ]
    },
    {
     "name": "stdout",
     "output_type": "stream",
     "text": [
      "2019-11-20 19:15:00\n",
      "2019-11-20 19:20:00\n",
      "2019-11-20 19:25:00\n",
      "2019-11-20 19:30:00\n",
      "2019-11-20 19:35:00\n",
      "2019-11-20 19:40:00\n",
      "2019-11-20 19:45:00\n"
     ]
    },
    {
     "name": "stderr",
     "output_type": "stream",
     "text": [
      " 89%|████████▉ | 93269/104975 [55:37<06:37, 29.45it/s]"
     ]
    },
    {
     "name": "stdout",
     "output_type": "stream",
     "text": [
      "2019-11-20 19:50:00\n",
      "2019-11-20 19:55:00\n",
      "2019-11-20 20:00:00\n",
      "2019-11-20 20:05:00\n",
      "2019-11-20 20:10:00\n",
      "2019-11-20 20:15:00\n",
      "2019-11-20 20:20:00\n"
     ]
    },
    {
     "name": "stderr",
     "output_type": "stream",
     "text": [
      " 89%|████████▉ | 93277/104975 [55:37<06:15, 31.19it/s]"
     ]
    },
    {
     "name": "stdout",
     "output_type": "stream",
     "text": [
      "2019-11-20 20:25:00\n",
      "2019-11-20 20:30:00\n",
      "2019-11-20 20:35:00\n",
      "2019-11-20 20:40:00\n",
      "2019-11-20 20:45:00\n",
      "2019-11-20 20:50:00\n",
      "2019-11-20 20:55:00\n",
      "2019-11-20 21:00:00\n"
     ]
    },
    {
     "name": "stderr",
     "output_type": "stream",
     "text": [
      " 89%|████████▉ | 93281/104975 [55:37<06:03, 32.18it/s]"
     ]
    },
    {
     "name": "stdout",
     "output_type": "stream",
     "text": [
      "2019-11-20 21:05:00\n",
      "2019-11-20 21:10:00\n",
      "2019-11-20 21:15:00\n",
      "2019-11-20 21:20:00\n",
      "2019-11-20 21:25:00\n",
      "2019-11-20 21:30:00\n"
     ]
    },
    {
     "name": "stderr",
     "output_type": "stream",
     "text": [
      " 89%|████████▉ | 93289/104975 [55:38<06:49, 28.57it/s]"
     ]
    },
    {
     "name": "stdout",
     "output_type": "stream",
     "text": [
      "2019-11-20 21:35:00\n",
      "2019-11-20 21:40:00\n",
      "2019-11-20 21:45:00\n",
      "2019-11-20 21:50:00\n",
      "2019-11-20 21:55:00\n",
      "2019-11-20 22:00:00\n"
     ]
    },
    {
     "name": "stderr",
     "output_type": "stream",
     "text": [
      " 89%|████████▉ | 93719/104975 [55:52<05:58, 31.41it/s]"
     ]
    },
    {
     "name": "stdout",
     "output_type": "stream",
     "text": [
      "2019-11-22 09:20:00\n"
     ]
    },
    {
     "name": "stderr",
     "output_type": "stream",
     "text": [
      " 90%|████████▉ | 94046/104975 [56:04<06:39, 27.35it/s]"
     ]
    },
    {
     "name": "stdout",
     "output_type": "stream",
     "text": [
      "2019-11-23 12:40:00\n"
     ]
    },
    {
     "name": "stderr",
     "output_type": "stream",
     "text": [
      " 99%|█████████▉| 103853/104975 [1:01:55<00:35, 31.51it/s]"
     ]
    },
    {
     "name": "stdout",
     "output_type": "stream",
     "text": [
      "2019-12-27 13:55:00\n",
      "2019-12-27 14:00:00\n",
      "2019-12-27 14:05:00\n",
      "2019-12-27 14:10:00\n",
      "2019-12-27 14:15:00\n",
      "2019-12-27 14:20:00\n",
      "2019-12-27 14:25:00\n",
      "2019-12-27 14:30:00\n"
     ]
    },
    {
     "name": "stderr",
     "output_type": "stream",
     "text": [
      " 99%|█████████▉| 103861/104975 [1:01:55<00:35, 31.53it/s]"
     ]
    },
    {
     "name": "stdout",
     "output_type": "stream",
     "text": [
      "2019-12-27 14:35:00\n",
      "2019-12-27 14:40:00\n",
      "2019-12-27 14:45:00\n",
      "2019-12-27 14:50:00\n",
      "2019-12-27 14:55:00\n",
      "2019-12-27 15:00:00\n",
      "2019-12-27 15:05:00\n",
      "2019-12-27 15:10:00\n"
     ]
    },
    {
     "name": "stderr",
     "output_type": "stream",
     "text": [
      "100%|██████████| 104975/104975 [1:02:38<00:00, 27.93it/s]\n"
     ]
    }
   ],
   "source": [
    "sum_rain2019 = []\n",
    "for file in tqdm(files_2019):\n",
    "    date = get_datetime(file)\n",
    "    rdr = load_radar(filename=file, dir_rtcor=dir_rtcor, rtcor_fbase=rtcor_fbase, dir_aart=dir_aart, aart_fbase=aart_fbase, as_int=True)\n",
    "    try:\n",
    "        sum_rain2019.append([date, int(rdr.sum())])\n",
    "    except:\n",
    "        print(date)\n",
    "        sum_rain2019.append([date, 0])"
   ],
   "metadata": {
    "collapsed": false,
    "pycharm": {
     "name": "#%%\n"
    }
   }
  },
  {
   "cell_type": "code",
   "execution_count": 112,
   "outputs": [],
   "source": [
    "np_arr = np.array(sum_rain2019)\n",
    "np.save('/Volumes/lacie_msc_datascience/msc_thesis/github_pycharm/sum_rain2019', np_arr)"
   ],
   "metadata": {
    "collapsed": false,
    "pycharm": {
     "name": "#%%\n"
    }
   }
  },
  {
   "cell_type": "code",
   "execution_count": 113,
   "outputs": [
    {
     "data": {
      "text/plain": "                    mean_rain\ndate                         \n2019-01-01 00:00:00         4\n2019-01-01 00:05:00         0\n2019-01-01 00:10:00         0\n2019-01-01 00:15:00         6\n2019-01-01 00:20:00        18",
      "text/html": "<div>\n<style scoped>\n    .dataframe tbody tr th:only-of-type {\n        vertical-align: middle;\n    }\n\n    .dataframe tbody tr th {\n        vertical-align: top;\n    }\n\n    .dataframe thead th {\n        text-align: right;\n    }\n</style>\n<table border=\"1\" class=\"dataframe\">\n  <thead>\n    <tr style=\"text-align: right;\">\n      <th></th>\n      <th>mean_rain</th>\n    </tr>\n    <tr>\n      <th>date</th>\n      <th></th>\n    </tr>\n  </thead>\n  <tbody>\n    <tr>\n      <th>2019-01-01 00:00:00</th>\n      <td>4</td>\n    </tr>\n    <tr>\n      <th>2019-01-01 00:05:00</th>\n      <td>0</td>\n    </tr>\n    <tr>\n      <th>2019-01-01 00:10:00</th>\n      <td>0</td>\n    </tr>\n    <tr>\n      <th>2019-01-01 00:15:00</th>\n      <td>6</td>\n    </tr>\n    <tr>\n      <th>2019-01-01 00:20:00</th>\n      <td>18</td>\n    </tr>\n  </tbody>\n</table>\n</div>"
     },
     "execution_count": 113,
     "metadata": {},
     "output_type": "execute_result"
    }
   ],
   "source": [
    "df = pd.DataFrame({'date': np_arr[:, 0], 'mean_rain': np_arr[:, 1]})\n",
    "df['date'] = pd.to_datetime(df['date'])\n",
    "df = df.set_index('date')\n",
    "df.head()"
   ],
   "metadata": {
    "collapsed": false,
    "pycharm": {
     "name": "#%%\n"
    }
   }
  },
  {
   "cell_type": "code",
   "execution_count": 114,
   "outputs": [
    {
     "data": {
      "text/plain": "<AxesSubplot:xlabel='date'>"
     },
     "execution_count": 114,
     "metadata": {},
     "output_type": "execute_result"
    },
    {
     "data": {
      "text/plain": "<Figure size 432x288 with 1 Axes>",
      "image/png": "[encoded data removed]"
     },
     "metadata": {
      "needs_background": "light"
     },
     "output_type": "display_data"
    }
   ],
   "source": [
    "monthly_rain = df.mean_rain.resample('M').sum()\n",
    "monthly_rain.plot()"
   ],
   "metadata": {
    "collapsed": false,
    "pycharm": {
     "name": "#%%\n"
    }
   }
  },
  {
   "cell_type": "code",
   "execution_count": 120,
   "outputs": [
    {
     "data": {
      "text/plain": "                     total rain\ndate                           \n2019-01-01 00:00:00           4\n2019-01-01 00:05:00           0\n2019-01-01 00:10:00           0\n2019-01-01 00:15:00           6\n2019-01-01 00:20:00          18",
      "text/html": "<div>\n<style scoped>\n    .dataframe tbody tr th:only-of-type {\n        vertical-align: middle;\n    }\n\n    .dataframe tbody tr th {\n        vertical-align: top;\n    }\n\n    .dataframe thead th {\n        text-align: right;\n    }\n</style>\n<table border=\"1\" class=\"dataframe\">\n  <thead>\n    <tr style=\"text-align: right;\">\n      <th></th>\n      <th>total rain</th>\n    </tr>\n    <tr>\n      <th>date</th>\n      <th></th>\n    </tr>\n  </thead>\n  <tbody>\n    <tr>\n      <th>2019-01-01 00:00:00</th>\n      <td>4</td>\n    </tr>\n    <tr>\n      <th>2019-01-01 00:05:00</th>\n      <td>0</td>\n    </tr>\n    <tr>\n      <th>2019-01-01 00:10:00</th>\n      <td>0</td>\n    </tr>\n    <tr>\n      <th>2019-01-01 00:15:00</th>\n      <td>6</td>\n    </tr>\n    <tr>\n      <th>2019-01-01 00:20:00</th>\n      <td>18</td>\n    </tr>\n  </tbody>\n</table>\n</div>"
     },
     "execution_count": 120,
     "metadata": {},
     "output_type": "execute_result"
    }
   ],
   "source": [
    "np_arr =np.load('/Volumes/lacie_msc_datascience/msc_thesis/github_pycharm/sum_rain2019.npy', allow_pickle=True)\n",
    "df = pd.DataFrame({'date': np_arr[:, 0], 'total rain': np_arr[:, 1].astype(int)})\n",
    "df['date'] = pd.to_datetime(df['date'])\n",
    "df = df.set_index('date')\n",
    "df.head()"
   ],
   "metadata": {
    "collapsed": false,
    "pycharm": {
     "name": "#%%\n"
    }
   }
  },
  {
   "cell_type": "code",
   "execution_count": 121,
   "outputs": [
    {
     "data": {
      "text/plain": "<AxesSubplot:ylabel='Frequency'>"
     },
     "execution_count": 121,
     "metadata": {},
     "output_type": "execute_result"
    },
    {
     "data": {
      "text/plain": "<Figure size 432x288 with 1 Axes>",
      "image/png": "[encoded data removed]"
     },
     "metadata": {
      "needs_background": "light"
     },
     "output_type": "display_data"
    }
   ],
   "source": [
    "df.plot.hist(bins=100)"
   ],
   "metadata": {
    "collapsed": false,
    "pycharm": {
     "name": "#%%\n"
    }
   }
  },
  {
   "cell_type": "code",
   "execution_count": 122,
   "outputs": [
    {
     "data": {
      "text/plain": "<AxesSubplot:ylabel='Frequency'>"
     },
     "execution_count": 122,
     "metadata": {},
     "output_type": "execute_result"
    },
    {
     "data": {
      "text/plain": "<Figure size 432x288 with 1 Axes>",
      "image/png": "[encoded data removed]"
     },
     "metadata": {
      "needs_background": "light"
     },
     "output_type": "display_data"
    }
   ],
   "source": [
    "df[df['total rain']>1000000].plot.hist()"
   ],
   "metadata": {
    "collapsed": false,
    "pycharm": {
     "name": "#%%\n"
    }
   }
  },
  {
   "cell_type": "code",
   "execution_count": 123,
   "outputs": [
    {
     "data": {
      "text/plain": "            total rain\ndate                  \n2019-06-06     2955275",
      "text/html": "<div>\n<style scoped>\n    .dataframe tbody tr th:only-of-type {\n        vertical-align: middle;\n    }\n\n    .dataframe tbody tr th {\n        vertical-align: top;\n    }\n\n    .dataframe thead th {\n        text-align: right;\n    }\n</style>\n<table border=\"1\" class=\"dataframe\">\n  <thead>\n    <tr style=\"text-align: right;\">\n      <th></th>\n      <th>total rain</th>\n    </tr>\n    <tr>\n      <th>date</th>\n      <th></th>\n    </tr>\n  </thead>\n  <tbody>\n    <tr>\n      <th>2019-06-06</th>\n      <td>2955275</td>\n    </tr>\n  </tbody>\n</table>\n</div>"
     },
     "execution_count": 123,
     "metadata": {},
     "output_type": "execute_result"
    }
   ],
   "source": [
    "df[df['total rain'] == df['total rain'].max()]"
   ],
   "metadata": {
    "collapsed": false,
    "pycharm": {
     "name": "#%%\n"
    }
   }
  },
  {
   "cell_type": "code",
   "execution_count": 124,
   "outputs": [
    {
     "data": {
      "text/plain": "295.52750000000003"
     },
     "execution_count": 124,
     "metadata": {},
     "output_type": "execute_result"
    }
   ],
   "source": [
    "2955275 * 0.01 * 0.01"
   ],
   "metadata": {
    "collapsed": false,
    "pycharm": {
     "name": "#%%\n"
    }
   }
  },
  {
   "cell_type": "code",
   "execution_count": 125,
   "outputs": [
    {
     "data": {
      "text/plain": "                     total rain\ndate                           \n2019-06-06 00:00:00     2955275\n2019-06-06 00:05:00     1523977\n2019-06-06 00:10:00     1649908\n2019-06-06 00:15:00     1663556\n2019-06-06 00:20:00     1797998\n2019-06-06 00:25:00     1976869\n2019-06-06 00:30:00     1991128\n2019-06-06 00:35:00     1900455\n2019-06-06 00:40:00     1771922\n2019-06-06 00:45:00     1700210",
      "text/html": "<div>\n<style scoped>\n    .dataframe tbody tr th:only-of-type {\n        vertical-align: middle;\n    }\n\n    .dataframe tbody tr th {\n        vertical-align: top;\n    }\n\n    .dataframe thead th {\n        text-align: right;\n    }\n</style>\n<table border=\"1\" class=\"dataframe\">\n  <thead>\n    <tr style=\"text-align: right;\">\n      <th></th>\n      <th>total rain</th>\n    </tr>\n    <tr>\n      <th>date</th>\n      <th></th>\n    </tr>\n  </thead>\n  <tbody>\n    <tr>\n      <th>2019-06-06 00:00:00</th>\n      <td>2955275</td>\n    </tr>\n    <tr>\n      <th>2019-06-06 00:05:00</th>\n      <td>1523977</td>\n    </tr>\n    <tr>\n      <th>2019-06-06 00:10:00</th>\n      <td>1649908</td>\n    </tr>\n    <tr>\n      <th>2019-06-06 00:15:00</th>\n      <td>1663556</td>\n    </tr>\n    <tr>\n      <th>2019-06-06 00:20:00</th>\n      <td>1797998</td>\n    </tr>\n    <tr>\n      <th>2019-06-06 00:25:00</th>\n      <td>1976869</td>\n    </tr>\n    <tr>\n      <th>2019-06-06 00:30:00</th>\n      <td>1991128</td>\n    </tr>\n    <tr>\n      <th>2019-06-06 00:35:00</th>\n      <td>1900455</td>\n    </tr>\n    <tr>\n      <th>2019-06-06 00:40:00</th>\n      <td>1771922</td>\n    </tr>\n    <tr>\n      <th>2019-06-06 00:45:00</th>\n      <td>1700210</td>\n    </tr>\n  </tbody>\n</table>\n</div>"
     },
     "execution_count": 125,
     "metadata": {},
     "output_type": "execute_result"
    }
   ],
   "source": [
    "df2 = df[df.index.month == 6]\n",
    "df2 = df2[df2.index.day == 6]\n",
    "df2.head(10)"
   ],
   "metadata": {
    "collapsed": false,
    "pycharm": {
     "name": "#%%\n"
    }
   }
  },
  {
   "cell_type": "code",
   "execution_count": 126,
   "outputs": [],
   "source": [
    "def plot_radar(rdr):\n",
    "    plt.imshow(np.squeeze(rdr))\n",
    "    plt.axis('off')\n",
    "    plt.show()"
   ],
   "metadata": {
    "collapsed": false,
    "pycharm": {
     "name": "#%%\n"
    }
   }
  },
  {
   "cell_type": "code",
   "execution_count": 128,
   "outputs": [
    {
     "data": {
      "text/plain": "<Figure size 432x288 with 1 Axes>",
      "image/png": "[encoded data removed]"
     },
     "metadata": {
      "needs_background": "light"
     },
     "output_type": "display_data"
    }
   ],
   "source": [
    "fn = '201906060000.nc'\n",
    "rdr = load_radar(filename=fn, dir_rtcor=dir_rtcor, rtcor_fbase=rtcor_fbase, dir_aart=dir_aart, aart_fbase=aart_fbase)\n",
    "plot_radar(rdr)"
   ],
   "metadata": {
    "collapsed": false,
    "pycharm": {
     "name": "#%%\n"
    }
   }
  },
  {
   "cell_type": "code",
   "execution_count": 129,
   "outputs": [
    {
     "name": "stdout",
     "output_type": "stream",
     "text": [
      "Sampled size is 26.99% of the actual dataset\n"
     ]
    }
   ],
   "source": [
    "n = 288*100\n",
    "files_sample = np.random.choice(files, n)\n",
    "\n",
    "print('Sampled size is {:.2f}% of the actual dataset'.format(100*len(files_sample)/len(files)))"
   ],
   "metadata": {
    "collapsed": false,
    "pycharm": {
     "name": "#%%\n"
    }
   }
  },
  {
   "cell_type": "code",
   "execution_count": 131,
   "outputs": [
    {
     "name": "stderr",
     "output_type": "stream",
     "text": [
      "  4%|▍         | 1122/28800 [00:42<17:35, 26.23it/s] \n"
     ]
    },
    {
     "ename": "KeyboardInterrupt",
     "evalue": "",
     "output_type": "error",
     "traceback": [
      "\u001B[0;31m---------------------------------------------------------------------------\u001B[0m",
      "\u001B[0;31mKeyboardInterrupt\u001B[0m                         Traceback (most recent call last)",
      "Input \u001B[0;32mIn [131]\u001B[0m, in \u001B[0;36m<module>\u001B[0;34m\u001B[0m\n\u001B[1;32m      2\u001B[0m n_pixels\u001B[38;5;241m=\u001B[39m\u001B[38;5;241m0\u001B[39m\n\u001B[1;32m      3\u001B[0m \u001B[38;5;28;01mfor\u001B[39;00m file \u001B[38;5;129;01min\u001B[39;00m tqdm(files_sample):\n\u001B[0;32m----> 4\u001B[0m     rdr \u001B[38;5;241m=\u001B[39m \u001B[43mload_radar\u001B[49m\u001B[43m(\u001B[49m\u001B[43mfilename\u001B[49m\u001B[38;5;241;43m=\u001B[39;49m\u001B[43mfile\u001B[49m\u001B[43m,\u001B[49m\u001B[43m \u001B[49m\u001B[43mdir_rtcor\u001B[49m\u001B[38;5;241;43m=\u001B[39;49m\u001B[43mdir_rtcor\u001B[49m\u001B[43m,\u001B[49m\u001B[43m \u001B[49m\u001B[43mrtcor_fbase\u001B[49m\u001B[38;5;241;43m=\u001B[39;49m\u001B[43mrtcor_fbase\u001B[49m\u001B[43m,\u001B[49m\u001B[43m \u001B[49m\u001B[43mdir_aart\u001B[49m\u001B[38;5;241;43m=\u001B[39;49m\u001B[43mdir_aart\u001B[49m\u001B[43m,\u001B[49m\u001B[43m \u001B[49m\u001B[43maart_fbase\u001B[49m\u001B[38;5;241;43m=\u001B[39;49m\u001B[43maart_fbase\u001B[49m\u001B[43m,\u001B[49m\u001B[43mas_int\u001B[49m\u001B[38;5;241;43m=\u001B[39;49m\u001B[38;5;28;43;01mTrue\u001B[39;49;00m\u001B[43m)\u001B[49m\n\u001B[1;32m      5\u001B[0m     sample_sum\u001B[38;5;241m+\u001B[39m\u001B[38;5;241m=\u001B[39m \u001B[38;5;28mint\u001B[39m(rdr\u001B[38;5;241m.\u001B[39mfilled(\u001B[38;5;241m0\u001B[39m)\u001B[38;5;241m.\u001B[39msum())\n\u001B[1;32m      7\u001B[0m     \u001B[38;5;66;03m# Nr of unmasked pixels:\u001B[39;00m\n",
      "Input \u001B[0;32mIn [75]\u001B[0m, in \u001B[0;36mload_radar\u001B[0;34m(filename, dir_rtcor, rtcor_fbase, dir_aart, aart_fbase, as_int)\u001B[0m\n\u001B[1;32m     27\u001B[0m \u001B[38;5;28;01mif\u001B[39;00m aart_fbase \u001B[38;5;129;01min\u001B[39;00m filename:\n\u001B[1;32m     28\u001B[0m     path \u001B[38;5;241m=\u001B[39m dir_aart \u001B[38;5;241m+\u001B[39m filename\n\u001B[0;32m---> 29\u001B[0m \u001B[38;5;28;01mwith\u001B[39;00m \u001B[43mnetCDF4\u001B[49m\u001B[38;5;241;43m.\u001B[39;49m\u001B[43mDataset\u001B[49m\u001B[43m(\u001B[49m\u001B[43mpath\u001B[49m\u001B[43m,\u001B[49m\u001B[43m \u001B[49m\u001B[38;5;124;43m'\u001B[39;49m\u001B[38;5;124;43mr\u001B[39;49m\u001B[38;5;124;43m'\u001B[39;49m\u001B[43m)\u001B[49m \u001B[38;5;28;01mas\u001B[39;00m f:\n\u001B[1;32m     30\u001B[0m     rain \u001B[38;5;241m=\u001B[39m f[\u001B[38;5;124m'\u001B[39m\u001B[38;5;124mimage1_image_data\u001B[39m\u001B[38;5;124m'\u001B[39m][:]\n\u001B[1;32m     31\u001B[0m     \u001B[38;5;28;01mif\u001B[39;00m as_int:\n",
      "File \u001B[0;32msrc/netCDF4/_netCDF4.pyx:2330\u001B[0m, in \u001B[0;36mnetCDF4._netCDF4.Dataset.__init__\u001B[0;34m()\u001B[0m\n",
      "File \u001B[0;32msrc/netCDF4/_netCDF4.pyx:1914\u001B[0m, in \u001B[0;36mnetCDF4._netCDF4._get_vars\u001B[0;34m()\u001B[0m\n",
      "File \u001B[0;32msrc/netCDF4/_netCDF4.pyx:3911\u001B[0m, in \u001B[0;36mnetCDF4._netCDF4.Variable.__init__\u001B[0;34m()\u001B[0m\n",
      "File \u001B[0;32m~/opt/anaconda3/envs/py310/lib/python3.10/site-packages/netCDF4/utils.py:34\u001B[0m, in \u001B[0;36m_find_dim\u001B[0;34m(grp, dimname)\u001B[0m\n\u001B[1;32m     30\u001B[0m \u001B[38;5;28;01mdef\u001B[39;00m \u001B[38;5;21m_sortbylist\u001B[39m(A,B):\n\u001B[1;32m     31\u001B[0m     \u001B[38;5;66;03m# sort one list (A) using the values from another list (B)\u001B[39;00m\n\u001B[1;32m     32\u001B[0m     \u001B[38;5;28;01mreturn\u001B[39;00m [A[i] \u001B[38;5;28;01mfor\u001B[39;00m i \u001B[38;5;129;01min\u001B[39;00m \u001B[38;5;28msorted\u001B[39m(\u001B[38;5;28mrange\u001B[39m(\u001B[38;5;28mlen\u001B[39m(A)), key\u001B[38;5;241m=\u001B[39mB\u001B[38;5;241m.\u001B[39m\u001B[38;5;21m__getitem__\u001B[39m)]\n\u001B[0;32m---> 34\u001B[0m \u001B[38;5;28;01mdef\u001B[39;00m \u001B[38;5;21m_find_dim\u001B[39m(grp, dimname):\n\u001B[1;32m     35\u001B[0m     \u001B[38;5;66;03m# find Dimension instance given group and name.\u001B[39;00m\n\u001B[1;32m     36\u001B[0m     \u001B[38;5;66;03m# look in current group, and parents.\u001B[39;00m\n\u001B[1;32m     37\u001B[0m     group \u001B[38;5;241m=\u001B[39m grp\n\u001B[1;32m     38\u001B[0m     dim \u001B[38;5;241m=\u001B[39m \u001B[38;5;28;01mNone\u001B[39;00m\n",
      "\u001B[0;31mKeyboardInterrupt\u001B[0m: "
     ]
    }
   ],
   "source": [
    "sample_sum=0\n",
    "n_pixels=0\n",
    "for file in tqdm(files_sample):\n",
    "    rdr = load_radar(filename=file, dir_rtcor=dir_rtcor, rtcor_fbase=rtcor_fbase, dir_aart=dir_aart, aart_fbase=aart_fbase,as_int=True)\n",
    "    sample_sum+= int(rdr.filled(0).sum())\n",
    "\n",
    "    # Nr of unmasked pixels:\n",
    "    n_pixels+= 55739\n",
    "sample_avg = sample_sum/n_pixels\n",
    "print(sample_avg)"
   ],
   "metadata": {
    "collapsed": false,
    "pycharm": {
     "name": "#%%\n"
    }
   }
  },
  {
   "cell_type": "code",
   "execution_count": null,
   "outputs": [],
   "source": [
    "sum_x_min_mean_square=0\n",
    "n_pixels=0\n",
    "for file in tqdm(files_sample):\n",
    "    rdr = load_radar(filename=file, dir_rtcor=dir_rtcor, rtcor_fbase=rtcor_fbase, dir_aart=dir_aart, aart_fbase=aart_fbase,as_int=True)\n",
    "\n",
    "    try:\n",
    "        int(rdr.sum())\n",
    "        sum_x_min_mean_square +=  np.sum(np.square(rdr - sample_avg))\n",
    "    except:\n",
    "        sum_x_min_mean_square +=  np.sum(np.square(np.repeat(0,55739) - sample_avg))\n",
    "    n_pixels+= 55739\n",
    "sample_std =  sum_x_min_mean_square/n_pixels\n",
    "print(sample_std)"
   ],
   "metadata": {
    "collapsed": false,
    "pycharm": {
     "name": "#%%\n"
    }
   }
  },
  {
   "cell_type": "code",
   "execution_count": 134,
   "outputs": [
    {
     "data": {
      "text/plain": "<class 'netCDF4._netCDF4.Dataset'>\nroot group (NETCDF4 data model, file format HDF5):\n    Conventions: CF-1.5\n    history: Metadata adjusted by ADAGUC from KNMIHDF5 to NetCDF-CF\n    dimensions(sizes): y(765), x(700), time(1)\n    variables(dimensions): float64 y(y), float64 x(x), float64 time(time), |S1 geographic(), |S1 image1_calibration(), uint16 image1_image_data(time, y, x), |S1 overview(), |S1 radar1(), |S1 radar2(), |S1 radar3(), |S1 product(), |S1 iso_dataset(), |S1 projection()\n    groups: "
     },
     "execution_count": 134,
     "metadata": {},
     "output_type": "execute_result"
    }
   ],
   "source": [
    "ts = '201906060000'\n",
    "path = dir_aart + aart_fbase + ts + '.nc'\n",
    "\n",
    "ds = netCDF4.Dataset(path, 'r')\n",
    "ds"
   ],
   "metadata": {
    "collapsed": false,
    "pycharm": {
     "name": "#%%\n"
    }
   }
  },
  {
   "cell_type": "code",
   "execution_count": 135,
   "outputs": [
    {
     "name": "stdout",
     "output_type": "stream",
     "text": [
      "0.5 -3650.5\n",
      "55.969160591296045 0.007847661848348265\n"
     ]
    }
   ],
   "source": [
    "x = ds['x'][:][0]\n",
    "y = ds['y'][:][0]\n",
    "print(x,y)\n",
    "p = Proj(\"+proj=stere +lat_0=90 +lon_0=0.0 +lat_ts=60.0 +a=6378.137 +b=6356.752 +x_0=0 +y_0=0\")\n",
    "lon, lat = p(x, y, inverse=True)\n",
    "print(lat, lon)"
   ],
   "metadata": {
    "collapsed": false,
    "pycharm": {
     "name": "#%%\n"
    }
   }
  },
  {
   "cell_type": "code",
   "execution_count": 140,
   "outputs": [],
   "source": [
    "def plot_on_map(ts, dir_aart, aart_fbase, dir_rtcor, rtcor_fbase, ftype='.nc', res='l'):\n",
    "    '''\n",
    "    Plot radar file on top of map.\n",
    "    ts: Input is timestamp in format yyyymmddhhmm (e.g. 202001010000)\n",
    "    ftype: file type of the radar file, this can be .nc or .h5\n",
    "    res: resolution, can be c (crude), l (low), i (intermediate), h (high), f (full)\n",
    "    '''\n",
    "\n",
    "    proj = Proj(\"+proj=stere +lat_0=90 +lon_0=0.0 +lat_ts=60.0 +a=6378.137 +b=6356.752 +x_0=0 +y_0=0\")\n",
    "\n",
    "    # All images are plotted on the same map\n",
    "    # Get the map from random nc file\n",
    "    path = dir_aart + aart_fbase + '201901010000.nc'\n",
    "    with netCDF4.Dataset(path, 'r') as ds:\n",
    "        # Get coordinates of the pixels\n",
    "        xx, yy = np.meshgrid(ds['x'][:], ds['y'][:])\n",
    "        lon, lat = proj(xx, yy, inverse=True)\n",
    "        # Plot values on map\n",
    "        iso_dict = ds['iso_dataset'].__dict__\n",
    "        min_x = float(iso_dict['min_x'].replace('f', ''))\n",
    "        min_y = float(iso_dict['min_y'].replace('f', ''))\n",
    "        max_x = float(iso_dict['max_x'].replace('f', ''))\n",
    "        max_y = float(iso_dict['max_y'].replace('f', ''))\n",
    "\n",
    "    rain = np.squeeze(load_radar(filename=ts+ftype, dir_rtcor=dir_rtcor, rtcor_fbase=rtcor_fbase, dir_aart=dir_aart, aart_fbase=aart_fbase,as_int=True))\n",
    "    rain[rain == 65535 ] = 0\n",
    "\n",
    "    # Plot the precipitation on map\n",
    "    mp = mpl_toolkits.Basemap(projection='stere',\n",
    "                         lat_0=90,\n",
    "                         lon_0=0,\n",
    "                         lat_ts=60,\n",
    "                         llcrnrlon=min_x,   # lower longitude\n",
    "                         llcrnrlat=min_y,    # lower latitude\n",
    "                         urcrnrlon=max_x,   # uppper longitude\n",
    "                         urcrnrlat=max_y,   # uppper latitude\n",
    "                         resolution='l'\n",
    "                        )\n",
    "    mp.drawcoastlines()\n",
    "    mp.drawstates()\n",
    "    mp.drawcountries()\n",
    "\n",
    "    xx, yy = mp(lon, lat)\n",
    "    #cm = LinearSegmentedColormap.from_list('whitebluered', [[1,1,1],[0,0,1],[1,0,0]])\n",
    "    cmap = cm.Blues\n",
    "\n",
    "    cmap.set_under('white')\n",
    "    plt.contourf(xx, yy, rain, cmap=cmap, vmin=30, vmax=1000)\n",
    "    print(np.unique(rain)[:10])\n",
    "    plt.colorbar(extend='both')\n",
    "    plt.show()\n"
   ],
   "metadata": {
    "collapsed": false,
    "pycharm": {
     "name": "#%%\n"
    }
   }
  },
  {
   "cell_type": "code",
   "execution_count": 141,
   "outputs": [
    {
     "ename": "AttributeError",
     "evalue": "module 'mpl_toolkits' has no attribute 'Basemap'",
     "output_type": "error",
     "traceback": [
      "\u001B[0;31m---------------------------------------------------------------------------\u001B[0m",
      "\u001B[0;31mAttributeError\u001B[0m                            Traceback (most recent call last)",
      "Input \u001B[0;32mIn [141]\u001B[0m, in \u001B[0;36m<module>\u001B[0;34m\u001B[0m\n\u001B[1;32m      1\u001B[0m ts \u001B[38;5;241m=\u001B[39m \u001B[38;5;124m'\u001B[39m\u001B[38;5;124m201906060000\u001B[39m\u001B[38;5;124m'\u001B[39m\n\u001B[0;32m----> 2\u001B[0m \u001B[43mplot_on_map\u001B[49m\u001B[43m(\u001B[49m\u001B[43mts\u001B[49m\u001B[43m,\u001B[49m\u001B[43m \u001B[49m\u001B[43mdir_aart\u001B[49m\u001B[43m,\u001B[49m\u001B[43m \u001B[49m\u001B[43maart_fbase\u001B[49m\u001B[43m,\u001B[49m\u001B[43m \u001B[49m\u001B[43mdir_rtcor\u001B[49m\u001B[43m,\u001B[49m\u001B[43m \u001B[49m\u001B[43mrtcor_fbase\u001B[49m\u001B[43m,\u001B[49m\u001B[43m \u001B[49m\u001B[43mftype\u001B[49m\u001B[38;5;241;43m=\u001B[39;49m\u001B[38;5;124;43m'\u001B[39;49m\u001B[38;5;124;43m.h5\u001B[39;49m\u001B[38;5;124;43m'\u001B[39;49m\u001B[43m)\u001B[49m\n",
      "Input \u001B[0;32mIn [140]\u001B[0m, in \u001B[0;36mplot_on_map\u001B[0;34m(ts, dir_aart, aart_fbase, dir_rtcor, rtcor_fbase, ftype, res)\u001B[0m\n\u001B[1;32m     26\u001B[0m rain[rain \u001B[38;5;241m==\u001B[39m \u001B[38;5;241m65535\u001B[39m ] \u001B[38;5;241m=\u001B[39m \u001B[38;5;241m0\u001B[39m\n\u001B[1;32m     28\u001B[0m \u001B[38;5;66;03m# Plot the precipitation on map\u001B[39;00m\n\u001B[0;32m---> 29\u001B[0m mp \u001B[38;5;241m=\u001B[39m \u001B[43mmpl_toolkits\u001B[49m\u001B[38;5;241;43m.\u001B[39;49m\u001B[43mBasemap\u001B[49m(projection\u001B[38;5;241m=\u001B[39m\u001B[38;5;124m'\u001B[39m\u001B[38;5;124mstere\u001B[39m\u001B[38;5;124m'\u001B[39m,\n\u001B[1;32m     30\u001B[0m                      lat_0\u001B[38;5;241m=\u001B[39m\u001B[38;5;241m90\u001B[39m,\n\u001B[1;32m     31\u001B[0m                      lon_0\u001B[38;5;241m=\u001B[39m\u001B[38;5;241m0\u001B[39m,\n\u001B[1;32m     32\u001B[0m                      lat_ts\u001B[38;5;241m=\u001B[39m\u001B[38;5;241m60\u001B[39m,\n\u001B[1;32m     33\u001B[0m                      llcrnrlon\u001B[38;5;241m=\u001B[39mmin_x,   \u001B[38;5;66;03m# lower longitude\u001B[39;00m\n\u001B[1;32m     34\u001B[0m                      llcrnrlat\u001B[38;5;241m=\u001B[39mmin_y,    \u001B[38;5;66;03m# lower latitude\u001B[39;00m\n\u001B[1;32m     35\u001B[0m                      urcrnrlon\u001B[38;5;241m=\u001B[39mmax_x,   \u001B[38;5;66;03m# uppper longitude\u001B[39;00m\n\u001B[1;32m     36\u001B[0m                      urcrnrlat\u001B[38;5;241m=\u001B[39mmax_y,   \u001B[38;5;66;03m# uppper latitude\u001B[39;00m\n\u001B[1;32m     37\u001B[0m                      resolution\u001B[38;5;241m=\u001B[39m\u001B[38;5;124m'\u001B[39m\u001B[38;5;124ml\u001B[39m\u001B[38;5;124m'\u001B[39m\n\u001B[1;32m     38\u001B[0m                     )\n\u001B[1;32m     39\u001B[0m mp\u001B[38;5;241m.\u001B[39mdrawcoastlines()\n\u001B[1;32m     40\u001B[0m mp\u001B[38;5;241m.\u001B[39mdrawstates()\n",
      "\u001B[0;31mAttributeError\u001B[0m: module 'mpl_toolkits' has no attribute 'Basemap'"
     ]
    }
   ],
   "source": [
    "ts = '201906060000'\n",
    "plot_on_map(ts, dir_aart, aart_fbase, dir_rtcor, rtcor_fbase, ftype='.h5')"
   ],
   "metadata": {
    "collapsed": false,
    "pycharm": {
     "name": "#%%\n"
    }
   }
  },
  {
   "cell_type": "markdown",
   "source": [
    "### .npy aart files"
   ],
   "metadata": {
    "collapsed": false
   }
  },
  {
   "cell_type": "code",
   "execution_count": 142,
   "outputs": [
    {
     "name": "stdout",
     "output_type": "stream",
     "text": [
      "6120\n"
     ]
    }
   ],
   "source": [
    "aart_dir_np = '/Volumes/lacie_msc_datascience/msc_thesis/ceph_knmimo/preprocessed/aart/'\n",
    "files = sorted([f for f in listdir(radar_dir_np) if isfile(join(radar_dir_np, f)) and f.startswith('2019')])\n",
    "print(len(files))"
   ],
   "metadata": {
    "collapsed": false,
    "pycharm": {
     "name": "#%%\n"
    }
   }
  },
  {
   "cell_type": "code",
   "execution_count": 143,
   "outputs": [
    {
     "data": {
      "text/plain": "<matplotlib.image.AxesImage at 0x7fb320af1f60>"
     },
     "execution_count": 143,
     "metadata": {},
     "output_type": "execute_result"
    },
    {
     "data": {
      "text/plain": "<Figure size 432x288 with 1 Axes>",
      "image/png": "[encoded data removed]"
     },
     "metadata": {
      "needs_background": "light"
     },
     "output_type": "display_data"
    }
   ],
   "source": [
    "fn = '201906060000'\n",
    "path = aart_dir_np + '/{}.npy'.format(fn)\n",
    "\n",
    "rain = np.load(path)\n",
    "# set masked values to 0\n",
    "mask = (rain == 6553500)\n",
    "rain[rain == 6553500] = 0\n",
    "# Expand dimensions from (w,h) to (w,h,c=1)\n",
    "rain = np.expand_dims(rain, axis=-1)\n",
    "\n",
    "\n",
    "mx = np.ma.masked_array(rain, mask)\n",
    "plt.imshow(np.squeeze(mx))"
   ],
   "metadata": {
    "collapsed": false,
    "pycharm": {
     "name": "#%%\n"
    }
   }
  },
  {
   "cell_type": "code",
   "execution_count": 149,
   "outputs": [
    {
     "ename": "ValueError",
     "evalue": "too many values to unpack (expected 2)",
     "output_type": "error",
     "traceback": [
      "\u001B[0;31m---------------------------------------------------------------------------\u001B[0m",
      "\u001B[0;31mValueError\u001B[0m                                Traceback (most recent call last)",
      "Input \u001B[0;32mIn [149]\u001B[0m, in \u001B[0;36m<module>\u001B[0;34m\u001B[0m\n\u001B[1;32m      8\u001B[0m h \u001B[38;5;241m=\u001B[39m \u001B[38;5;241m384\u001B[39m\n\u001B[1;32m      9\u001B[0m rain2 \u001B[38;5;241m=\u001B[39m crop_center(np\u001B[38;5;241m.\u001B[39msqueeze(rain), w, h)\n\u001B[0;32m---> 10\u001B[0m mask2 \u001B[38;5;241m=\u001B[39m \u001B[43mcrop_center\u001B[49m\u001B[43m(\u001B[49m\u001B[43mmask\u001B[49m\u001B[43m,\u001B[49m\u001B[43m \u001B[49m\u001B[43mw\u001B[49m\u001B[43m,\u001B[49m\u001B[43m \u001B[49m\u001B[43mh\u001B[49m\u001B[43m)\u001B[49m\n\u001B[1;32m     12\u001B[0m mx2 \u001B[38;5;241m=\u001B[39m np\u001B[38;5;241m.\u001B[39mma\u001B[38;5;241m.\u001B[39mmasked_array(rain2, mask2)\n\u001B[1;32m     13\u001B[0m plt\u001B[38;5;241m.\u001B[39mimshow(np\u001B[38;5;241m.\u001B[39msqueeze(mx2))\n",
      "Input \u001B[0;32mIn [149]\u001B[0m, in \u001B[0;36mcrop_center\u001B[0;34m(img, cropx, cropy)\u001B[0m\n\u001B[1;32m      1\u001B[0m \u001B[38;5;28;01mdef\u001B[39;00m \u001B[38;5;21mcrop_center\u001B[39m(img,cropx\u001B[38;5;241m=\u001B[39m\u001B[38;5;241m350\u001B[39m,cropy\u001B[38;5;241m=\u001B[39m\u001B[38;5;241m384\u001B[39m):\n\u001B[0;32m----> 2\u001B[0m     y,x \u001B[38;5;241m=\u001B[39m img\u001B[38;5;241m.\u001B[39mshape\u001B[38;5;66;03m#[:2]\u001B[39;00m\n\u001B[1;32m      3\u001B[0m     startx \u001B[38;5;241m=\u001B[39m \u001B[38;5;241m20\u001B[39m\u001B[38;5;241m+\u001B[39mx\u001B[38;5;241m/\u001B[39m\u001B[38;5;241m/\u001B[39m\u001B[38;5;241m2\u001B[39m\u001B[38;5;241m-\u001B[39m(cropx\u001B[38;5;241m/\u001B[39m\u001B[38;5;241m/\u001B[39m\u001B[38;5;241m2\u001B[39m)\n\u001B[1;32m      4\u001B[0m     starty \u001B[38;5;241m=\u001B[39m \u001B[38;5;241m40\u001B[39m\u001B[38;5;241m+\u001B[39my\u001B[38;5;241m/\u001B[39m\u001B[38;5;241m/\u001B[39m\u001B[38;5;241m2\u001B[39m\u001B[38;5;241m-\u001B[39m(cropy\u001B[38;5;241m/\u001B[39m\u001B[38;5;241m/\u001B[39m\u001B[38;5;241m2\u001B[39m)\n",
      "\u001B[0;31mValueError\u001B[0m: too many values to unpack (expected 2)"
     ]
    }
   ],
   "source": [
    "def crop_center(img,cropx=350,cropy=384):\n",
    "    y,x = img.shape#[:2]\n",
    "    startx = 20+x//2-(cropx//2)\n",
    "    starty = 40+y//2-(cropy//2)\n",
    "    return img[starty:starty+cropy,startx:startx+cropx]\n",
    "\n",
    "w = 350\n",
    "h = 384\n",
    "rain2 = crop_center(np.squeeze(rain), w, h)\n",
    "mask2 = crop_center(mask, w, h)\n",
    "\n",
    "mx2 = np.ma.masked_array(rain2, mask2)\n",
    "plt.imshow(np.squeeze(mx2))\n",
    "mx2.shape"
   ],
   "metadata": {
    "collapsed": false,
    "pycharm": {
     "name": "#%%\n"
    }
   }
  },
  {
   "cell_type": "code",
   "execution_count": 150,
   "outputs": [
    {
     "ename": "ValueError",
     "evalue": "too many values to unpack (expected 2)",
     "output_type": "error",
     "traceback": [
      "\u001B[0;31m---------------------------------------------------------------------------\u001B[0m",
      "\u001B[0;31mValueError\u001B[0m                                Traceback (most recent call last)",
      "Input \u001B[0;32mIn [150]\u001B[0m, in \u001B[0;36m<module>\u001B[0;34m\u001B[0m\n\u001B[1;32m      8\u001B[0m h \u001B[38;5;241m=\u001B[39m \u001B[38;5;241m384\u001B[39m\n\u001B[1;32m      9\u001B[0m rain2 \u001B[38;5;241m=\u001B[39m crop_center(np\u001B[38;5;241m.\u001B[39msqueeze(rain), w, h)\n\u001B[0;32m---> 10\u001B[0m mask2 \u001B[38;5;241m=\u001B[39m \u001B[43mcrop_center\u001B[49m\u001B[43m(\u001B[49m\u001B[43mmask\u001B[49m\u001B[43m,\u001B[49m\u001B[43m \u001B[49m\u001B[43mw\u001B[49m\u001B[43m,\u001B[49m\u001B[43m \u001B[49m\u001B[43mh\u001B[49m\u001B[43m)\u001B[49m\n\u001B[1;32m     12\u001B[0m mx2 \u001B[38;5;241m=\u001B[39m np\u001B[38;5;241m.\u001B[39mma\u001B[38;5;241m.\u001B[39mmasked_array(rain2, mask2)\n\u001B[1;32m     13\u001B[0m plt\u001B[38;5;241m.\u001B[39mimshow(np\u001B[38;5;241m.\u001B[39msqueeze(mx2))\n",
      "Input \u001B[0;32mIn [149]\u001B[0m, in \u001B[0;36mcrop_center\u001B[0;34m(img, cropx, cropy)\u001B[0m\n\u001B[1;32m      1\u001B[0m \u001B[38;5;28;01mdef\u001B[39;00m \u001B[38;5;21mcrop_center\u001B[39m(img,cropx\u001B[38;5;241m=\u001B[39m\u001B[38;5;241m350\u001B[39m,cropy\u001B[38;5;241m=\u001B[39m\u001B[38;5;241m384\u001B[39m):\n\u001B[0;32m----> 2\u001B[0m     y,x \u001B[38;5;241m=\u001B[39m img\u001B[38;5;241m.\u001B[39mshape\u001B[38;5;66;03m#[:2]\u001B[39;00m\n\u001B[1;32m      3\u001B[0m     startx \u001B[38;5;241m=\u001B[39m \u001B[38;5;241m20\u001B[39m\u001B[38;5;241m+\u001B[39mx\u001B[38;5;241m/\u001B[39m\u001B[38;5;241m/\u001B[39m\u001B[38;5;241m2\u001B[39m\u001B[38;5;241m-\u001B[39m(cropx\u001B[38;5;241m/\u001B[39m\u001B[38;5;241m/\u001B[39m\u001B[38;5;241m2\u001B[39m)\n\u001B[1;32m      4\u001B[0m     starty \u001B[38;5;241m=\u001B[39m \u001B[38;5;241m40\u001B[39m\u001B[38;5;241m+\u001B[39my\u001B[38;5;241m/\u001B[39m\u001B[38;5;241m/\u001B[39m\u001B[38;5;241m2\u001B[39m\u001B[38;5;241m-\u001B[39m(cropy\u001B[38;5;241m/\u001B[39m\u001B[38;5;241m/\u001B[39m\u001B[38;5;241m2\u001B[39m)\n",
      "\u001B[0;31mValueError\u001B[0m: too many values to unpack (expected 2)"
     ]
    }
   ],
   "source": [
    "def uncrop_center(img,cropx=350,cropy=384):\n",
    "    y,x = img.shape\n",
    "    startx = 20+x//2-(cropx//2)\n",
    "    starty = 40+y//2-(cropy//2)\n",
    "    return img[starty:starty+cropy,startx:startx+cropx]\n",
    "\n",
    "w = 350\n",
    "h = 384\n",
    "rain2 = crop_center(np.squeeze(rain), w, h)\n",
    "mask2 = crop_center(mask, w, h)\n",
    "\n",
    "mx2 = np.ma.masked_array(rain2, mask2)\n",
    "plt.imshow(np.squeeze(mx2))\n",
    "mx2.shape"
   ],
   "metadata": {
    "collapsed": false,
    "pycharm": {
     "name": "#%%\n"
    }
   }
  },
  {
   "cell_type": "markdown",
   "source": [
    "### Rain labels"
   ],
   "metadata": {
    "collapsed": false,
    "pycharm": {
     "name": "#%% md\n"
    }
   }
  },
  {
   "cell_type": "code",
   "execution_count": 153,
   "outputs": [],
   "source": [
    "label_dir_rtcor = '/Volumes/lacie_msc_datascience/msc_thesis/ceph_knmimo/rtcor_rain_labels/2019/'"
   ],
   "metadata": {
    "collapsed": false,
    "pycharm": {
     "name": "#%%\n"
    }
   }
  },
  {
   "cell_type": "code",
   "execution_count": 160,
   "outputs": [
    {
     "name": "stdout",
     "output_type": "stream",
     "text": [
      "Files Moved\n"
     ]
    }
   ],
   "source": [
    "import shutil\n",
    "import os\n",
    "\n",
    "# Define the source and destination path\n",
    "source = '/Volumes/lacie_msc_datascience/msc_thesis/ceph_knmimo/rtcor_rain_labels/2019/07/'\n",
    "destination = '/Volumes/lacie_msc_datascience/msc_thesis/ceph_knmimo/rtcor_rain_labels/2019/'\n",
    "\n",
    "# code to move the files from sub-folder to main folder.\n",
    "files = os.listdir(source)\n",
    "for file in files:\n",
    "    file_name = os.path.join(source, file)\n",
    "    shutil.move(file_name, destination)\n",
    "print(\"Files Moved\")"
   ],
   "metadata": {
    "collapsed": false,
    "pycharm": {
     "name": "#%%\n"
    }
   }
  },
  {
   "cell_type": "code",
   "execution_count": 19,
   "outputs": [
    {
     "data": {
      "text/plain": "52113"
     },
     "execution_count": 19,
     "metadata": {},
     "output_type": "execute_result"
    }
   ],
   "source": [
    "label_dir_rtcor = '/Volumes/lacie_msc_datascience/msc_thesis/ceph_knmimo/rtcor_rain_labels/2019/'\n",
    "\n",
    "labels = sorted([f for f in listdir(label_dir_rtcor) if isfile(join(label_dir_rtcor, f)) and f.endswith('.npy')])\n",
    "len(labels)"
   ],
   "metadata": {
    "collapsed": false,
    "pycharm": {
     "name": "#%%\n"
    }
   }
  },
  {
   "cell_type": "code",
   "execution_count": 20,
   "outputs": [
    {
     "data": {
      "text/plain": "3748"
     },
     "execution_count": 20,
     "metadata": {},
     "output_type": "execute_result"
    }
   ],
   "source": [
    "rainy_days = []\n",
    "for label in labels[:10000]:\n",
    "    norain = np.load(label_dir_rtcor + label)\n",
    "    if not norain:\n",
    "        rainy_days.append(label)\n",
    "len(rainy_days)"
   ],
   "metadata": {
    "collapsed": false,
    "pycharm": {
     "name": "#%%\n"
    }
   }
  },
  {
   "cell_type": "code",
   "execution_count": null,
   "outputs": [],
   "source": [],
   "metadata": {
    "collapsed": false,
    "pycharm": {
     "name": "#%%\n"
    }
   }
  }
 ],
 "metadata": {
  "kernelspec": {
   "display_name": "Python 3",
   "language": "python",
   "name": "python3"
  },
  "language_info": {
   "codemirror_mode": {
    "name": "ipython",
    "version": 2
   },
   "file_extension": ".py",
   "mimetype": "text/x-python",
   "name": "python",
   "nbconvert_exporter": "python",
   "pygments_lexer": "ipython2",
   "version": "2.7.6"
  }
 },
 "nbformat": 4,
 "nbformat_minor": 0
}